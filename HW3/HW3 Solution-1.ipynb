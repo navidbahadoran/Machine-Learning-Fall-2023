{
 "cells": [
  {
   "cell_type": "code",
   "execution_count": 14,
   "metadata": {},
   "outputs": [],
   "source": [
    "import numpy as np\n",
    "import matplotlib.pyplot as plt\n",
    "#import torch"
   ]
  },
  {
   "cell_type": "code",
   "execution_count": 11,
   "metadata": {},
   "outputs": [
    {
     "name": "stdout",
     "output_type": "stream",
     "text": [
      "(2000, 500) (2000,) (600, 500) (600,)\n"
     ]
    }
   ],
   "source": [
    "x = np.loadtxt(\"d:/datasets/uci/madelon/madelon_train.data\")\n",
    "y = np.loadtxt(\"d:/datasets/uci/madelon/madelon_train.labels\", delimiter=',')\n",
    "xt = np.loadtxt(\"d:/datasets/uci/madelon/madelon_valid.data\")\n",
    "yt = np.loadtxt(\"d:/datasets/uci/madelon/madelon_valid.labels\", delimiter=',')\n",
    "print(x.shape,y.shape,xt.shape,yt.shape)"
   ]
  },
  {
   "cell_type": "code",
   "execution_count": 20,
   "metadata": {},
   "outputs": [
    {
     "name": "stdout",
     "output_type": "stream",
     "text": [
      "(300, 20000) (300,) (300, 20000) (300,)\n"
     ]
    }
   ],
   "source": [
    "x = np.loadtxt(\"d:/datasets/uci/dexter/dexter_train.csv\", delimiter=',')\n",
    "y = np.loadtxt(\"d:/datasets/uci/dexter/dexter_train.labels\", delimiter=',')\n",
    "xt = np.loadtxt(\"d:/datasets/uci/dexter/dexter_valid.csv\", delimiter=',')\n",
    "yt = np.loadtxt(\"d:/datasets/uci/dexter/dexter_valid.labels\", delimiter=',')\n",
    "print(x.shape,y.shape,xt.shape,yt.shape)"
   ]
  },
  {
   "cell_type": "code",
   "execution_count": 10,
   "metadata": {},
   "outputs": [
    {
     "name": "stdout",
     "output_type": "stream",
     "text": [
      "(6000, 5000) (6000,) (1000, 5000) (1000,)\n"
     ]
    }
   ],
   "source": [
    "x = np.loadtxt(\"d:/datasets/uci/gisette/gisette_train.data\")\n",
    "y = np.loadtxt(\"d:/datasets/uci/gisette/gisette_train.labels\", delimiter=',')\n",
    "xt = np.loadtxt(\"d:/datasets/uci/gisette/gisette_valid.data\")\n",
    "yt = np.loadtxt(\"d:/datasets/uci/gisette/gisette_valid.labels\", delimiter=',')\n",
    "print(x.shape,y.shape,xt.shape,yt.shape)"
   ]
  },
  {
   "cell_type": "code",
   "execution_count": 11,
   "metadata": {},
   "outputs": [
    {
     "name": "stdout",
     "output_type": "stream",
     "text": [
      "(6000, 4955)\n",
      "[1. 1. 1. ... 1. 1. 1.]\n"
     ]
    }
   ],
   "source": [
    "sx=np.std(x,axis=0)\n",
    "x=x[:,sx>0]\n",
    "xt=xt[:,sx>0]\n",
    "mx=np.mean(x,axis=0)\n",
    "sx=np.std(x,axis=0)\n",
    "print(x.shape)\n",
    "x=(x-mx)/sx\n",
    "xt=(xt-mx)/sx\n",
    "print(np.std(x,axis=0))"
   ]
  },
  {
   "cell_type": "code",
   "execution_count": 13,
   "metadata": {},
   "outputs": [],
   "source": [
    "y[y<0]=0\n",
    "yt[yt<0]=0"
   ]
  },
  {
   "cell_type": "code",
   "execution_count": 15,
   "metadata": {},
   "outputs": [
    {
     "name": "stdout",
     "output_type": "stream",
     "text": [
      "(6000, 4956) (1000, 4956)\n"
     ]
    }
   ],
   "source": [
    "n=x.shape[0]\n",
    "nt=xt.shape[0]\n",
    "x=np.concatenate((np.ones((n,1)),x),axis=1)\n",
    "xt=np.concatenate((np.ones((nt,1)),xt),axis=1)\n",
    "print(x.shape,xt.shape)"
   ]
  },
  {
   "cell_type": "code",
   "execution_count": 28,
   "metadata": {},
   "outputs": [
    {
     "name": "stdout",
     "output_type": "stream",
     "text": [
      "(6000,) (6000,) -4158.883083359672 (4956,)\n",
      "0 -0.6931471805599454\n",
      "1 -1.5485207034284005\n",
      "2 -0.42592552463565514\n",
      "3 -0.2570771663407431\n",
      "4 -0.17710606391999803\n",
      "5 -0.1329682350257887\n",
      "6 -0.10417694609453125\n",
      "7 -0.08432203236126709\n",
      "8 -0.06981608168919531\n",
      "9 -0.05820814283996272\n"
     ]
    },
    {
     "data": {
      "text/plain": [
       "[<matplotlib.lines.Line2D at 0x230b83b9c50>]"
      ]
     },
     "execution_count": 28,
     "metadata": {},
     "output_type": "execute_result"
    },
    {
     "data": {
      "image/png": "[encoded data removed]",
      "text/plain": [
       "<Figure size 640x480 with 1 Axes>"
      ]
     },
     "metadata": {},
     "output_type": "display_data"
    }
   ],
   "source": [
    "def loss(xw,y):\n",
    "    yxw=y.reshape(-1)*xw.reshape(-1)\n",
    "    lexw=np.log(1+np.exp(xw))\n",
    "    return np.sum(yxw)-np.sum(lexw)\n",
    "def grad(xw,y):\n",
    "    py=1/(1+np.exp(-xw))\n",
    "    g=x.T@(y.reshape(-1)-py.reshape(-1))\n",
    "    return g\n",
    "eta=0.1\n",
    "p=x.shape[1]\n",
    "w=np.zeros((p))\n",
    "xw=x@w\n",
    "l=loss(xw,y)\n",
    "g=grad(xw,y)\n",
    "print(xw.shape,y.shape,l,g.shape)\n",
    "los=[]\n",
    "for it in range(10):\n",
    "    xw=x@w\n",
    "    g=grad(xw,y)\n",
    "    w=w+eta*g/n\n",
    "    l=loss(xw,y)/n\n",
    "    print(it,l)\n",
    "    los.append(l)\n",
    "plt.plot(los)"
   ]
  },
  {
   "cell_type": "code",
   "execution_count": null,
   "metadata": {},
   "outputs": [],
   "source": []
  }
 ],
 "metadata": {
  "kernelspec": {
   "display_name": "Python 3 (ipykernel)",
   "language": "python",
   "name": "python3"
  },
  "language_info": {
   "codemirror_mode": {
    "name": "ipython",
    "version": 3
   },
   "file_extension": ".py",
   "mimetype": "text/x-python",
   "name": "python",
   "nbconvert_exporter": "python",
   "pygments_lexer": "ipython3",
   "version": "3.11.4"
  }
 },
 "nbformat": 4,
 "nbformat_minor": 1
}
