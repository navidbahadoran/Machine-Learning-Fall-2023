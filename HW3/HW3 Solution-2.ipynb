{
 "cells": [
  {
   "cell_type": "code",
   "execution_count": 42,
   "metadata": {},
   "outputs": [],
   "source": [
    "import numpy as np\n",
    "import matplotlib.pyplot as plt\n",
    "#import torch"
   ]
  },
  {
   "cell_type": "code",
   "execution_count": 30,
   "metadata": {},
   "outputs": [
    {
     "data": {
      "text/plain": [
       "62.5"
      ]
     },
     "execution_count": 30,
     "metadata": {},
     "output_type": "execute_result"
    }
   ],
   "source": [
    "orig=10**6\n",
    "msl=10**3+15*10**3\n",
    "orig/msl"
   ]
  },
  {
   "cell_type": "code",
   "execution_count": 41,
   "metadata": {},
   "outputs": [
    {
     "data": {
      "text/plain": [
       "95.87406005562649"
      ]
     },
     "execution_count": 41,
     "metadata": {},
     "output_type": "execute_result"
    }
   ],
   "source": [
    "1/0.1*(np.log(729)+np.log(1/0.05))"
   ]
  },
  {
   "cell_type": "code",
   "execution_count": 11,
   "metadata": {},
   "outputs": [
    {
     "name": "stdout",
     "output_type": "stream",
     "text": [
      "(2000, 500) (2000,) (600, 500) (600,)\n"
     ]
    }
   ],
   "source": [
    "x = np.loadtxt(\"d:/datasets/uci/madelon/madelon_train.data\")\n",
    "y = np.loadtxt(\"d:/datasets/uci/madelon/madelon_train.labels\", delimiter=',')\n",
    "xt = np.loadtxt(\"d:/datasets/uci/madelon/madelon_valid.data\")\n",
    "yt = np.loadtxt(\"d:/datasets/uci/madelon/madelon_valid.labels\", delimiter=',')\n",
    "print(x.shape,y.shape,xt.shape,yt.shape)"
   ]
  },
  {
   "cell_type": "code",
   "execution_count": 63,
   "metadata": {},
   "outputs": [
    {
     "name": "stdout",
     "output_type": "stream",
     "text": [
      "(300, 20000) (300,) (300, 20000) (300,)\n"
     ]
    }
   ],
   "source": [
    "x = np.loadtxt(\"d:/datasets/uci/dexter/dexter_train.csv\", delimiter=',')\n",
    "y = np.loadtxt(\"d:/datasets/uci/dexter/dexter_train.labels\", delimiter=',')\n",
    "xt = np.loadtxt(\"d:/datasets/uci/dexter/dexter_valid.csv\", delimiter=',')\n",
    "yt = np.loadtxt(\"d:/datasets/uci/dexter/dexter_valid.labels\", delimiter=',')\n",
    "print(x.shape,y.shape,xt.shape,yt.shape)"
   ]
  },
  {
   "cell_type": "code",
   "execution_count": 50,
   "metadata": {},
   "outputs": [
    {
     "name": "stdout",
     "output_type": "stream",
     "text": [
      "(606, 100) (606,) (606, 100) (606,)\n"
     ]
    }
   ],
   "source": [
    "x = np.loadtxt(\"d:/datasets/uci/hill-valley/x.dat\")\n",
    "y = np.loadtxt(\"d:/datasets/uci/hill-valley/y.dat\", delimiter=',')\n",
    "xt = np.loadtxt(\"d:/datasets/uci/hill-valley/xtest.dat\")\n",
    "yt = np.loadtxt(\"d:/datasets/uci/hill-valley/ytest.dat\", delimiter=',')\n",
    "print(x.shape,y.shape,xt.shape,yt.shape)"
   ]
  },
  {
   "cell_type": "code",
   "execution_count": 70,
   "metadata": {},
   "outputs": [
    {
     "name": "stdout",
     "output_type": "stream",
     "text": [
      "(6000, 5000) (6000,) (1000, 5000) (1000,)\n"
     ]
    }
   ],
   "source": [
    "x = np.loadtxt(\"d:/datasets/uci/gisette/gisette_train.data\")\n",
    "y = np.loadtxt(\"d:/datasets/uci/gisette/gisette_train.labels\", delimiter=',')\n",
    "xt = np.loadtxt(\"d:/datasets/uci/gisette/gisette_valid.data\")\n",
    "yt = np.loadtxt(\"d:/datasets/uci/gisette/gisette_valid.labels\", delimiter=',')\n",
    "print(x.shape,y.shape,xt.shape,yt.shape)"
   ]
  },
  {
   "cell_type": "code",
   "execution_count": 71,
   "metadata": {},
   "outputs": [
    {
     "name": "stdout",
     "output_type": "stream",
     "text": [
      "(6000, 4955)\n",
      "[1. 1. 1. ... 1. 1. 1.]\n"
     ]
    }
   ],
   "source": [
    "sx=np.std(x,axis=0)\n",
    "x=x[:,sx>0]\n",
    "xt=xt[:,sx>0]\n",
    "mx=np.mean(x,axis=0)\n",
    "sx=np.std(x,axis=0)\n",
    "print(x.shape)\n",
    "x=(x-mx)/sx\n",
    "xt=(xt-mx)/sx\n",
    "print(np.std(x,axis=0))"
   ]
  },
  {
   "cell_type": "code",
   "execution_count": 72,
   "metadata": {},
   "outputs": [],
   "source": [
    "y[y<0]=0\n",
    "yt[yt<0]=0"
   ]
  },
  {
   "cell_type": "code",
   "execution_count": 73,
   "metadata": {},
   "outputs": [
    {
     "name": "stdout",
     "output_type": "stream",
     "text": [
      "(6000, 4956) (1000, 4956)\n"
     ]
    }
   ],
   "source": [
    "n=x.shape[0]\n",
    "nt=xt.shape[0]\n",
    "x=np.concatenate((np.ones((n,1)),x),axis=1)\n",
    "xt=np.concatenate((np.ones((nt,1)),xt),axis=1)\n",
    "print(x.shape,xt.shape)"
   ]
  },
  {
   "cell_type": "code",
   "execution_count": 67,
   "metadata": {},
   "outputs": [
    {
     "name": "stdout",
     "output_type": "stream",
     "text": [
      "(300,) (300,) -0.6931471805599453 (7752,)\n"
     ]
    },
    {
     "data": {
      "text/plain": [
       "[<matplotlib.lines.Line2D at 0x230c0258f10>]"
      ]
     },
     "execution_count": 67,
     "metadata": {},
     "output_type": "execute_result"
    },
    {
     "data": {
      "image/png": "[encoded data removed]",
      "text/plain": [
       "<Figure size 640x480 with 1 Axes>"
      ]
     },
     "metadata": {},
     "output_type": "display_data"
    }
   ],
   "source": [
    "def loglik(xw,y):\n",
    "    yxw=y.reshape(-1)*xw.reshape(-1)\n",
    "    lexw=np.log(1+np.exp(xw))\n",
    "    return np.sum(yxw)-np.sum(lexw)\n",
    "def grad(xw,y):\n",
    "    py=1/(1+np.exp(-xw))\n",
    "    g=x.T@(y.reshape(-1)-py.reshape(-1))\n",
    "    return g\n",
    "eta=0.1\n",
    "la=0.0001\n",
    "p=x.shape[1]\n",
    "w=np.zeros((p))\n",
    "xw=x@w\n",
    "l=loglik(xw,y)/n-la*np.sum(w**2)/2/n\n",
    "g=grad(xw,y)\n",
    "print(xw.shape,y.shape,l,g.shape)\n",
    "los=[l]\n",
    "for it in range(300):\n",
    "    xw=x@w\n",
    "    g=grad(xw,y)\n",
    "    w=w-eta*la*w+eta*g/n\n",
    "    l=loglik(xw,y)/n-la*np.sum(w**2)/2/n\n",
    "    #print(it,l)\n",
    "    los.append(l)\n",
    "plt.plot(los)"
   ]
  },
  {
   "cell_type": "code",
   "execution_count": 77,
   "metadata": {},
   "outputs": [
    {
     "name": "stdout",
     "output_type": "stream",
     "text": [
      "0.03833333333333333 0.034\n"
     ]
    }
   ],
   "source": [
    "def err(xw,y):\n",
    "    py=(xw>0)\n",
    "    return np.mean(py!=y)\n",
    "xwt=xt@w\n",
    "print(err(xw,y),err(xwt,yt))"
   ]
  },
  {
   "cell_type": "code",
   "execution_count": 69,
   "metadata": {},
   "outputs": [
    {
     "data": {
      "text/plain": [
       "[<matplotlib.lines.Line2D at 0x230c00ae710>]"
      ]
     },
     "execution_count": 69,
     "metadata": {},
     "output_type": "execute_result"
    },
    {
     "data": {
      "image/png": "[encoded data removed]",
      "text/plain": [
       "<Figure size 640x480 with 1 Axes>"
      ]
     },
     "metadata": {},
     "output_type": "display_data"
    }
   ],
   "source": [
    "from sklearn import metrics\n",
    "fpr, tpr, thresholds = metrics.roc_curve(y, xw)\n",
    "fprt, tprt, thresholds = metrics.roc_curve(yt, xwt)\n",
    "plt.plot(fpr,tpr)\n",
    "plt.plot(fprt,tprt)"
   ]
  },
  {
   "cell_type": "code",
   "execution_count": 76,
   "metadata": {},
   "outputs": [
    {
     "name": "stdout",
     "output_type": "stream",
     "text": [
      "(6000,) (6000,) 0.6931471805599454 (4956,)\n"
     ]
    },
    {
     "data": {
      "text/plain": [
       "[<matplotlib.lines.Line2D at 0x230c2cbcf10>]"
      ]
     },
     "execution_count": 76,
     "metadata": {},
     "output_type": "execute_result"
    },
    {
     "data": {
      "image/png": "[encoded data removed]",
      "text/plain": [
       "<Figure size 640x480 with 1 Axes>"
      ]
     },
     "metadata": {},
     "output_type": "display_data"
    }
   ],
   "source": [
    "eta=0.003\n",
    "la=0.01\n",
    "p=x.shape[1]\n",
    "w=np.zeros((p))\n",
    "xw=x@w\n",
    "l=-loglik(xw,y)/n+la*np.sum(np.abs(w))\n",
    "g=grad(xw,y)\n",
    "print(xw.shape,y.shape,l,g.shape)\n",
    "los=[l]\n",
    "for it in range(300):\n",
    "    xw=x@w\n",
    "    g=grad(xw,y)\n",
    "    w=w-eta*la*np.sign(w)+eta*g/n\n",
    "    l=-loglik(xw,y)/n+la*np.sum(np.abs(w))\n",
    "    #print(it,l)\n",
    "    los.append(l)\n",
    "plt.plot(los)"
   ]
  },
  {
   "cell_type": "code",
   "execution_count": null,
   "metadata": {},
   "outputs": [],
   "source": []
  }
 ],
 "metadata": {
  "kernelspec": {
   "display_name": "Python 3 (ipykernel)",
   "language": "python",
   "name": "python3"
  },
  "language_info": {
   "codemirror_mode": {
    "name": "ipython",
    "version": 3
   },
   "file_extension": ".py",
   "mimetype": "text/x-python",
   "name": "python",
   "nbconvert_exporter": "python",
   "pygments_lexer": "ipython3",
   "version": "3.11.4"
  }
 },
 "nbformat": 4,
 "nbformat_minor": 1
}
