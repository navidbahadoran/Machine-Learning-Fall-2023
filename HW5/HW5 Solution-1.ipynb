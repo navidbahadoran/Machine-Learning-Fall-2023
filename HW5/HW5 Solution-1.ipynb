{
 "cells": [
  {
   "cell_type": "code",
   "execution_count": 1,
   "metadata": {},
   "outputs": [],
   "source": [
    "import numpy as np\n",
    "import matplotlib.pyplot as plt\n",
    "import torch"
   ]
  },
  {
   "cell_type": "code",
   "execution_count": 92,
   "metadata": {},
   "outputs": [
    {
     "name": "stdout",
     "output_type": "stream",
     "text": [
      "(2000, 500) (2000,) (600, 500) (600,)\n"
     ]
    }
   ],
   "source": [
    "x = np.loadtxt(\"d:/datasets/uci/madelon/madelon_train.data\")\n",
    "y = np.loadtxt(\"d:/datasets/uci/madelon/madelon_train.labels\", delimiter=',')\n",
    "xt = np.loadtxt(\"d:/datasets/uci/madelon/madelon_valid.data\")\n",
    "yt = np.loadtxt(\"d:/datasets/uci/madelon/madelon_valid.labels\", delimiter=',')\n",
    "print(x.shape,y.shape,xt.shape,yt.shape)"
   ]
  },
  {
   "cell_type": "code",
   "execution_count": 85,
   "metadata": {},
   "outputs": [
    {
     "name": "stdout",
     "output_type": "stream",
     "text": [
      "(300, 20000) (300,) (300, 20000) (300,)\n"
     ]
    }
   ],
   "source": [
    "x = np.loadtxt(\"d:/datasets/uci/dexter/dexter_train.csv\", delimiter=',')\n",
    "y = np.loadtxt(\"d:/datasets/uci/dexter/dexter_train.labels\", delimiter=',')\n",
    "xt = np.loadtxt(\"d:/datasets/uci/dexter/dexter_valid.csv\", delimiter=',')\n",
    "yt = np.loadtxt(\"d:/datasets/uci/dexter/dexter_valid.labels\", delimiter=',')\n",
    "print(x.shape,y.shape,xt.shape,yt.shape)"
   ]
  },
  {
   "cell_type": "code",
   "execution_count": 50,
   "metadata": {},
   "outputs": [
    {
     "name": "stdout",
     "output_type": "stream",
     "text": [
      "(606, 100) (606,) (606, 100) (606,)\n"
     ]
    }
   ],
   "source": [
    "x = np.loadtxt(\"d:/datasets/uci/hill-valley/x.dat\")\n",
    "y = np.loadtxt(\"d:/datasets/uci/hill-valley/y.dat\", delimiter=',')\n",
    "xt = np.loadtxt(\"d:/datasets/uci/hill-valley/xtest.dat\")\n",
    "yt = np.loadtxt(\"d:/datasets/uci/hill-valley/ytest.dat\", delimiter=',')\n",
    "print(x.shape,y.shape,xt.shape,yt.shape)"
   ]
  },
  {
   "cell_type": "code",
   "execution_count": 6,
   "metadata": {},
   "outputs": [
    {
     "name": "stdout",
     "output_type": "stream",
     "text": [
      "(6000, 5000) (6000,) (1000, 5000) (1000,)\n"
     ]
    }
   ],
   "source": [
    "x = np.loadtxt(\"d:/datasets/uci/gisette/gisette_train.data\")\n",
    "y = np.loadtxt(\"d:/datasets/uci/gisette/gisette_train.labels\", delimiter=',')\n",
    "xt = np.loadtxt(\"d:/datasets/uci/gisette/gisette_valid.data\")\n",
    "yt = np.loadtxt(\"d:/datasets/uci/gisette/gisette_valid.labels\", delimiter=',')\n",
    "print(x.shape,y.shape,xt.shape,yt.shape)"
   ]
  },
  {
   "cell_type": "code",
   "execution_count": 7,
   "metadata": {},
   "outputs": [
    {
     "name": "stdout",
     "output_type": "stream",
     "text": [
      "(6000, 4955)\n",
      "tensor([1.0001, 1.0001, 1.0001,  ..., 1.0001, 1.0001, 1.0001],\n",
      "       dtype=torch.float64)\n"
     ]
    }
   ],
   "source": [
    "sx=np.std(x,axis=0)\n",
    "x=x[:,sx>0]\n",
    "xt=xt[:,sx>0]\n",
    "mx=np.mean(x,axis=0)\n",
    "sx=np.std(x,axis=0)\n",
    "print(x.shape)\n",
    "x=torch.tensor((x-mx)/sx)\n",
    "xt=torch.tensor((xt-mx)/sx)\n",
    "y=torch.tensor(y)\n",
    "yt=torch.tensor(yt)\n",
    "print(torch.std(x,axis=0))"
   ]
  },
  {
   "cell_type": "code",
   "execution_count": 8,
   "metadata": {},
   "outputs": [
    {
     "name": "stdout",
     "output_type": "stream",
     "text": [
      "torch.Size([6000, 4956]) torch.Size([1000, 4956])\n"
     ]
    }
   ],
   "source": [
    "n=x.shape[0]\n",
    "nt=xt.shape[0]\n",
    "x=torch.cat((torch.ones((n,1)),x),axis=1)\n",
    "xt=torch.cat((torch.ones((nt,1)),xt),axis=1)\n",
    "print(x.shape,xt.shape)"
   ]
  },
  {
   "cell_type": "code",
   "execution_count": 9,
   "metadata": {},
   "outputs": [],
   "source": [
    "y1=y.clone()\n",
    "yt1=yt.clone()"
   ]
  },
  {
   "cell_type": "code",
   "execution_count": 10,
   "metadata": {},
   "outputs": [],
   "source": [
    "y[y<0]=0\n",
    "yt[yt<0]=0"
   ]
  },
  {
   "cell_type": "code",
   "execution_count": 4,
   "metadata": {},
   "outputs": [
    {
     "data": {
      "text/plain": [
       "array([0, 1, 2, 3, 4, 5, 6, 7, 8, 9])"
      ]
     },
     "execution_count": 4,
     "metadata": {},
     "output_type": "execute_result"
    }
   ],
   "source": [
    "np.where(abs(w)>thr)"
   ]
  },
  {
   "cell_type": "code",
   "execution_count": null,
   "metadata": {},
   "outputs": [],
   "source": [
    "def loss(xw,y,w,s):\n",
    "    yxw=y.reshape(-1)*xw.reshape(-1)\n",
    "    leyxw=np.log(1+np.exp(-yxw))\n",
    "    return np.mean(leyxw)+s*np.sum(w**2)\n",
    "\n",
    "def grad(x,w,y,s):\n",
    "    xw=x@w\n",
    "    yxw=y.reshape(-1)*xw.reshape(-1)\n",
    "    eyxw=np.exp(-yxw)\n",
    "    a=-y.reshape(-1)*eyxw/(1+eyxw)\n",
    "    g=x.T@a\n",
    "    return g/x.shape[0]+2*s*w\n",
    "\n",
    "def teta(w,la):\n",
    "    w[np.abs(w)<=la]=0\n",
    "    return w\n",
    "def err(xw,y):\n",
    "    py=(xw>0)\n",
    "    return np.mean(py!=y)\n",
    "\n",
    "eta=.1\n",
    "s=0.0001\n",
    "ks=[10,30,100,300,500]\n",
    "ks=[10]\n",
    "p=x.shape[1]\n",
    "ferrs=[]\n",
    "ferrst=[]\n",
    "for k in ks:\n",
    "    w=np.zeros((p))\n",
    "    xw=x@w\n",
    "    l=loss(xw,y)\n",
    "    g=grad(xw,y)\n",
    "    #print(xw.shape,y.shape,l,g.shape)\n",
    "    los=[l]\n",
    "    errs=[err(xw,y)]\n",
    "    xtw=xt@w\n",
    "    errst=[err(xtw,yt)]\n",
    "    idx = np.arange(p)\n",
    "    for it in range(100):\n",
    "        xw=x@w\n",
    "        g=grad(xw,y)\n",
    "        w=w+eta*g/n # gradient update\n",
    "        w=teta(w,la) # thresholding step\n",
    "        l=loss(xw,y1)\n",
    "        e=err(xw,y)\n",
    "        los.append(l)\n",
    "        xtw=xt@w\n",
    "        et=err(xtw,yt)\n",
    "        errs.append(e)\n",
    "        errst.append(et)\n",
    "    print(it,l,e,et,np.sum(w!=0))\n",
    "    ferrs.append(e)\n",
    "    ferrst.append(et)\n",
    "    plt.plot(errs)\n",
    "    plt.plot(errst)\n",
    "    plt.show()\n",
    "plt.plot(ks,ferrs)\n",
    "plt.plot(ks,ferrst)\n",
    "plt.show()"
   ]
  },
  {
   "cell_type": "code",
   "execution_count": 112,
   "metadata": {},
   "outputs": [
    {
     "name": "stdout",
     "output_type": "stream",
     "text": [
      "99 0.5907783588937011 0.3255 0.42833333333333334 102\n"
     ]
    },
    {
     "data": {
      "image/png": "[encoded data removed]",
      "text/plain": [
       "<Figure size 640x480 with 1 Axes>"
      ]
     },
     "metadata": {},
     "output_type": "display_data"
    },
    {
     "ename": "ValueError",
     "evalue": "x and y must have same first dimension, but have shapes (5,) and (1,)",
     "output_type": "error",
     "traceback": [
      "\u001b[1;31m---------------------------------------------------------------------------\u001b[0m",
      "\u001b[1;31mValueError\u001b[0m                                Traceback (most recent call last)",
      "Cell \u001b[1;32mIn[112], line 54\u001b[0m\n\u001b[0;32m     52\u001b[0m     plt\u001b[38;5;241m.\u001b[39mplot(errst)\n\u001b[0;32m     53\u001b[0m     plt\u001b[38;5;241m.\u001b[39mshow()\n\u001b[1;32m---> 54\u001b[0m plt\u001b[38;5;241m.\u001b[39mplot(ks,ferrs)\n\u001b[0;32m     55\u001b[0m plt\u001b[38;5;241m.\u001b[39mplot(ks,ferrst)\n\u001b[0;32m     56\u001b[0m plt\u001b[38;5;241m.\u001b[39mshow()\n",
      "File \u001b[1;32mC:\\Anaconda3\\Lib\\site-packages\\matplotlib\\pyplot.py:2812\u001b[0m, in \u001b[0;36mplot\u001b[1;34m(scalex, scaley, data, *args, **kwargs)\u001b[0m\n\u001b[0;32m   2810\u001b[0m \u001b[38;5;129m@_copy_docstring_and_deprecators\u001b[39m(Axes\u001b[38;5;241m.\u001b[39mplot)\n\u001b[0;32m   2811\u001b[0m \u001b[38;5;28;01mdef\u001b[39;00m \u001b[38;5;21mplot\u001b[39m(\u001b[38;5;241m*\u001b[39margs, scalex\u001b[38;5;241m=\u001b[39m\u001b[38;5;28;01mTrue\u001b[39;00m, scaley\u001b[38;5;241m=\u001b[39m\u001b[38;5;28;01mTrue\u001b[39;00m, data\u001b[38;5;241m=\u001b[39m\u001b[38;5;28;01mNone\u001b[39;00m, \u001b[38;5;241m*\u001b[39m\u001b[38;5;241m*\u001b[39mkwargs):\n\u001b[1;32m-> 2812\u001b[0m     \u001b[38;5;28;01mreturn\u001b[39;00m gca()\u001b[38;5;241m.\u001b[39mplot(\n\u001b[0;32m   2813\u001b[0m         \u001b[38;5;241m*\u001b[39margs, scalex\u001b[38;5;241m=\u001b[39mscalex, scaley\u001b[38;5;241m=\u001b[39mscaley,\n\u001b[0;32m   2814\u001b[0m         \u001b[38;5;241m*\u001b[39m\u001b[38;5;241m*\u001b[39m({\u001b[38;5;124m\"\u001b[39m\u001b[38;5;124mdata\u001b[39m\u001b[38;5;124m\"\u001b[39m: data} \u001b[38;5;28;01mif\u001b[39;00m data \u001b[38;5;129;01mis\u001b[39;00m \u001b[38;5;129;01mnot\u001b[39;00m \u001b[38;5;28;01mNone\u001b[39;00m \u001b[38;5;28;01melse\u001b[39;00m {}), \u001b[38;5;241m*\u001b[39m\u001b[38;5;241m*\u001b[39mkwargs)\n",
      "File \u001b[1;32mC:\\Anaconda3\\Lib\\site-packages\\matplotlib\\axes\\_axes.py:1688\u001b[0m, in \u001b[0;36mAxes.plot\u001b[1;34m(self, scalex, scaley, data, *args, **kwargs)\u001b[0m\n\u001b[0;32m   1445\u001b[0m \u001b[38;5;250m\u001b[39m\u001b[38;5;124;03m\"\"\"\u001b[39;00m\n\u001b[0;32m   1446\u001b[0m \u001b[38;5;124;03mPlot y versus x as lines and/or markers.\u001b[39;00m\n\u001b[0;32m   1447\u001b[0m \n\u001b[1;32m   (...)\u001b[0m\n\u001b[0;32m   1685\u001b[0m \u001b[38;5;124;03m(``'green'``) or hex strings (``'#008000'``).\u001b[39;00m\n\u001b[0;32m   1686\u001b[0m \u001b[38;5;124;03m\"\"\"\u001b[39;00m\n\u001b[0;32m   1687\u001b[0m kwargs \u001b[38;5;241m=\u001b[39m cbook\u001b[38;5;241m.\u001b[39mnormalize_kwargs(kwargs, mlines\u001b[38;5;241m.\u001b[39mLine2D)\n\u001b[1;32m-> 1688\u001b[0m lines \u001b[38;5;241m=\u001b[39m [\u001b[38;5;241m*\u001b[39m\u001b[38;5;28mself\u001b[39m\u001b[38;5;241m.\u001b[39m_get_lines(\u001b[38;5;241m*\u001b[39margs, data\u001b[38;5;241m=\u001b[39mdata, \u001b[38;5;241m*\u001b[39m\u001b[38;5;241m*\u001b[39mkwargs)]\n\u001b[0;32m   1689\u001b[0m \u001b[38;5;28;01mfor\u001b[39;00m line \u001b[38;5;129;01min\u001b[39;00m lines:\n\u001b[0;32m   1690\u001b[0m     \u001b[38;5;28mself\u001b[39m\u001b[38;5;241m.\u001b[39madd_line(line)\n",
      "File \u001b[1;32mC:\\Anaconda3\\Lib\\site-packages\\matplotlib\\axes\\_base.py:311\u001b[0m, in \u001b[0;36m_process_plot_var_args.__call__\u001b[1;34m(self, data, *args, **kwargs)\u001b[0m\n\u001b[0;32m    309\u001b[0m     this \u001b[38;5;241m+\u001b[39m\u001b[38;5;241m=\u001b[39m args[\u001b[38;5;241m0\u001b[39m],\n\u001b[0;32m    310\u001b[0m     args \u001b[38;5;241m=\u001b[39m args[\u001b[38;5;241m1\u001b[39m:]\n\u001b[1;32m--> 311\u001b[0m \u001b[38;5;28;01myield from\u001b[39;00m \u001b[38;5;28mself\u001b[39m\u001b[38;5;241m.\u001b[39m_plot_args(\n\u001b[0;32m    312\u001b[0m     this, kwargs, ambiguous_fmt_datakey\u001b[38;5;241m=\u001b[39mambiguous_fmt_datakey)\n",
      "File \u001b[1;32mC:\\Anaconda3\\Lib\\site-packages\\matplotlib\\axes\\_base.py:504\u001b[0m, in \u001b[0;36m_process_plot_var_args._plot_args\u001b[1;34m(self, tup, kwargs, return_kwargs, ambiguous_fmt_datakey)\u001b[0m\n\u001b[0;32m    501\u001b[0m     \u001b[38;5;28mself\u001b[39m\u001b[38;5;241m.\u001b[39maxes\u001b[38;5;241m.\u001b[39myaxis\u001b[38;5;241m.\u001b[39mupdate_units(y)\n\u001b[0;32m    503\u001b[0m \u001b[38;5;28;01mif\u001b[39;00m x\u001b[38;5;241m.\u001b[39mshape[\u001b[38;5;241m0\u001b[39m] \u001b[38;5;241m!=\u001b[39m y\u001b[38;5;241m.\u001b[39mshape[\u001b[38;5;241m0\u001b[39m]:\n\u001b[1;32m--> 504\u001b[0m     \u001b[38;5;28;01mraise\u001b[39;00m \u001b[38;5;167;01mValueError\u001b[39;00m(\u001b[38;5;124mf\u001b[39m\u001b[38;5;124m\"\u001b[39m\u001b[38;5;124mx and y must have same first dimension, but \u001b[39m\u001b[38;5;124m\"\u001b[39m\n\u001b[0;32m    505\u001b[0m                      \u001b[38;5;124mf\u001b[39m\u001b[38;5;124m\"\u001b[39m\u001b[38;5;124mhave shapes \u001b[39m\u001b[38;5;132;01m{\u001b[39;00mx\u001b[38;5;241m.\u001b[39mshape\u001b[38;5;132;01m}\u001b[39;00m\u001b[38;5;124m and \u001b[39m\u001b[38;5;132;01m{\u001b[39;00my\u001b[38;5;241m.\u001b[39mshape\u001b[38;5;132;01m}\u001b[39;00m\u001b[38;5;124m\"\u001b[39m)\n\u001b[0;32m    506\u001b[0m \u001b[38;5;28;01mif\u001b[39;00m x\u001b[38;5;241m.\u001b[39mndim \u001b[38;5;241m>\u001b[39m \u001b[38;5;241m2\u001b[39m \u001b[38;5;129;01mor\u001b[39;00m y\u001b[38;5;241m.\u001b[39mndim \u001b[38;5;241m>\u001b[39m \u001b[38;5;241m2\u001b[39m:\n\u001b[0;32m    507\u001b[0m     \u001b[38;5;28;01mraise\u001b[39;00m \u001b[38;5;167;01mValueError\u001b[39;00m(\u001b[38;5;124mf\u001b[39m\u001b[38;5;124m\"\u001b[39m\u001b[38;5;124mx and y can be no greater than 2D, but have \u001b[39m\u001b[38;5;124m\"\u001b[39m\n\u001b[0;32m    508\u001b[0m                      \u001b[38;5;124mf\u001b[39m\u001b[38;5;124m\"\u001b[39m\u001b[38;5;124mshapes \u001b[39m\u001b[38;5;132;01m{\u001b[39;00mx\u001b[38;5;241m.\u001b[39mshape\u001b[38;5;132;01m}\u001b[39;00m\u001b[38;5;124m and \u001b[39m\u001b[38;5;132;01m{\u001b[39;00my\u001b[38;5;241m.\u001b[39mshape\u001b[38;5;132;01m}\u001b[39;00m\u001b[38;5;124m\"\u001b[39m)\n",
      "\u001b[1;31mValueError\u001b[0m: x and y must have same first dimension, but have shapes (5,) and (1,)"
     ]
    },
    {
     "data": {
      "image/png": "[encoded data removed]",
      "text/plain": [
       "<Figure size 640x480 with 1 Axes>"
      ]
     },
     "metadata": {},
     "output_type": "display_data"
    }
   ],
   "source": [
    "def loss(xw,y):\n",
    "    yxw=y.reshape(-1)*xw.reshape(-1)\n",
    "    leyxw=np.log(1+np.exp(-yxw))\n",
    "    return np.mean(leyxw)\n",
    "\n",
    "def grad(xw,y):\n",
    "    py=1/(1+np.exp(-xw))\n",
    "    g=x.T@(y.reshape(-1)-py.reshape(-1))\n",
    "    return g\n",
    "def teta(w,la):\n",
    "    w[np.abs(w)<=la]=0\n",
    "    return w\n",
    "def err(xw,y):\n",
    "    py=(xw>0)\n",
    "    return np.mean(py!=y)\n",
    "\n",
    "eta=.1\n",
    "la=0.027\n",
    "ks=[11,32,102,305,501]\n",
    "las=[0.0044,0.0024,0.0017,0.00074,0.00]\n",
    "las=[0.0017]\n",
    "p=x.shape[1]\n",
    "ferrs=[]\n",
    "ferrst=[]\n",
    "for la in las:\n",
    "    w=np.zeros((p))\n",
    "    xw=x@w\n",
    "    l=loss(xw,y)\n",
    "    g=grad(xw,y)\n",
    "    #print(xw.shape,y.shape,l,g.shape)\n",
    "    los=[l]\n",
    "    errs=[err(xw,y)]\n",
    "    xtw=xt@w\n",
    "    errst=[err(xtw,yt)]\n",
    "    idx = np.arange(p)\n",
    "    for it in range(100):\n",
    "        xw=x@w\n",
    "        g=grad(xw,y)\n",
    "        w=w+eta*g/n # gradient update\n",
    "        w=teta(w,la) # thresholding step\n",
    "        l=loss(xw,y1)\n",
    "        e=err(xw,y)\n",
    "        los.append(l)\n",
    "        xtw=xt@w\n",
    "        et=err(xtw,yt)\n",
    "        errs.append(e)\n",
    "        errst.append(et)\n",
    "    print(it,l,e,et,np.sum(w!=0))\n",
    "    ferrs.append(e)\n",
    "    ferrst.append(et)\n",
    "    plt.plot(errs)\n",
    "    plt.plot(errst)\n",
    "    plt.show()\n",
    "plt.plot(ks,ferrs)\n",
    "plt.plot(ks,ferrst)\n",
    "plt.show()"
   ]
  },
  {
   "cell_type": "code",
   "execution_count": 113,
   "metadata": {},
   "outputs": [
    {
     "name": "stdout",
     "output_type": "stream",
     "text": [
      "0.3255 0.42833333333333334\n"
     ]
    }
   ],
   "source": [
    "xwt=xt@w\n",
    "print(err(xw,y),err(xwt,yt))"
   ]
  },
  {
   "cell_type": "code",
   "execution_count": 114,
   "metadata": {},
   "outputs": [
    {
     "data": {
      "text/plain": [
       "[<matplotlib.lines.Line2D at 0x22b13997350>]"
      ]
     },
     "execution_count": 114,
     "metadata": {},
     "output_type": "execute_result"
    },
    {
     "data": {
      "image/png": "[encoded data removed]",
      "text/plain": [
       "<Figure size 640x480 with 1 Axes>"
      ]
     },
     "metadata": {},
     "output_type": "display_data"
    }
   ],
   "source": [
    "from sklearn import metrics\n",
    "fpr, tpr, thresholds = metrics.roc_curve(y, xw)\n",
    "fprt, tprt, thresholds = metrics.roc_curve(yt, xwt)\n",
    "plt.plot(fpr,tpr)\n",
    "plt.plot(fprt,tprt)"
   ]
  },
  {
   "cell_type": "code",
   "execution_count": null,
   "metadata": {},
   "outputs": [],
   "source": []
  }
 ],
 "metadata": {
  "kernelspec": {
   "display_name": "Python 3 (ipykernel)",
   "language": "python",
   "name": "python3"
  },
  "language_info": {
   "codemirror_mode": {
    "name": "ipython",
    "version": 3
   },
   "file_extension": ".py",
   "mimetype": "text/x-python",
   "name": "python",
   "nbconvert_exporter": "python",
   "pygments_lexer": "ipython3",
   "version": "3.11.4"
  }
 },
 "nbformat": 4,
 "nbformat_minor": 1
}
