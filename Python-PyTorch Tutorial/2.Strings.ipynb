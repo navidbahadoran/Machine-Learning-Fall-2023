{
 "cells": [
  {
   "cell_type": "markdown",
   "id": "39a26ea6",
   "metadata": {},
   "source": [
    "#### String:\n",
    "- sequence of characters \n",
    "- can be manipulated as arrays\n",
    "- can be tested for equality"
   ]
  },
  {
   "cell_type": "code",
   "execution_count": null,
   "id": "24ce1b76",
   "metadata": {},
   "outputs": [],
   "source": [
    "# string example\n",
    "s = 'hello'\n",
    "print(s[1:4])        # string slice (substring)\n",
    "print(len(s))        # string length\n",
    "print(s + ' world')  # concatenation"
   ]
  },
  {
   "cell_type": "code",
   "execution_count": null,
   "id": "9ea6b482",
   "metadata": {},
   "outputs": [],
   "source": [
    "# strings can be bounded by either \"\" or '' \n",
    "# use as appropriate when there are these characters in the string\n",
    "print(\"String with a single quote (') character.\")\n",
    "print('String with a double quote (\") character.')\n",
    "\n",
    "# use concatenation for both charaters\n",
    "print('String with double quote (\") and' + \" single quote (') characters.\")"
   ]
  },
  {
   "cell_type": "markdown",
   "id": "845cb018",
   "metadata": {},
   "source": [
    "#### Triple quoted strings\n",
    "- Allow for quote characters \n",
    "- Allow multiple lines"
   ]
  },
  {
   "cell_type": "code",
   "execution_count": null,
   "id": "d9392b8b",
   "metadata": {},
   "outputs": [],
   "source": [
    "# Triple quoted strings\n",
    "print('''String with double quote (\") and single quote (') characters.''')\n",
    "print('''String with double quote (\") \n",
    "and single quote (') characters \n",
    "on multiple lines.''')"
   ]
  },
  {
   "cell_type": "markdown",
   "id": "39e88a1a",
   "metadata": {},
   "source": [
    "#### Escape Sequences\n",
    "- Allow to use special characters that have a special meaning\n",
    "- \\',\\\" for quotation characters\n",
    "- \\\\ for backslash\n",
    "- \\Enter for new line"
   ]
  },
  {
   "cell_type": "code",
   "execution_count": null,
   "id": "b40739b6",
   "metadata": {},
   "outputs": [],
   "source": [
    "# Escape sequence examples\n",
    "print('String with double quote (\\\") and single quote (\\') characters.')\n",
    "print('String with \\\\ backslash')\n",
    "print('String with \\\n",
    "new line')"
   ]
  },
  {
   "cell_type": "markdown",
   "id": "a9be799d",
   "metadata": {},
   "source": [
    "#### Other escape sequences\n",
    "- \\a\tASCII Bell (BEL) character\n",
    "- \\b\tASCII Backspace (BS) character\n",
    "- \\f\tASCII Formfeed (FF) character\n",
    "- \\n\tASCII Linefeed (LF) character\n",
    "- \\N{name}\tCharacter from Unicode database with given name\n",
    "- \\r\tASCII Carriage Return (CR) character\n",
    "- \\t\tASCII Horizontal Tab (TAB) character\n",
    "- \\uxxxx\tUnicode character with 16-bit hex value xxxx\n",
    "- \\Uxxxxxxxx\tUnicode character with 32-bit hex value xxxxxxxx\n",
    "- \\v\tASCII Vertical Tab (VT) character\n",
    "- \\ooo\tCharacter with octal value ooo\n",
    "- \\xhh\tCharacter with hex value hh"
   ]
  },
  {
   "cell_type": "code",
   "execution_count": null,
   "id": "a5a475e0",
   "metadata": {},
   "outputs": [],
   "source": [
    "print(\"a\\ab\")\n",
    "print('a\\bb')\n",
    "print('a\\fb')\n",
    "print(\"a\\nb\")\n",
    "print('\\u2192 \\N{rightwards arrow} \\N{infinity}')\n",
    "print('a\\rb')\n",
    "print(\"a\\tb\")\n",
    "print('a\\vb')\n",
    "print(\"a\\141\\x62\")"
   ]
  },
  {
   "cell_type": "code",
   "execution_count": null,
   "id": "a385f791",
   "metadata": {},
   "outputs": [],
   "source": [
    "# strings can be tested for equality using ==\n",
    "print(s=='help')\n",
    "print(s=='hello')"
   ]
  },
  {
   "cell_type": "code",
   "execution_count": null,
   "id": "8b995042",
   "metadata": {},
   "outputs": [],
   "source": [
    "# string methods\n",
    "print(s.lower(), s.upper()) # returns the lowercase or uppercase version of the string\n",
    "print(s.strip()) # returns a string with whitespace removed from the start and end\n",
    "print(s.isalpha(),s.isdigit(),s.isspace()) # tests if all the string chars are in the various character classes\n",
    "print(s.startswith('her'), s.endswith('llo')) # tests if the string starts or ends with the given other string\n",
    "print(s.find('ell')) # searches for the given other string (not a regular expression) within s, and returns the first index where it begins or -1 if not found\n",
    "print(s.replace('ell', 'new')) # returns a string where all occurrences of 'old' have been replaced by 'new'\n",
    "print(s.split('e')) # returns a list of substrings separated by the given delimiter. The delimiter is not a regular expression, it's just text. 'aaa,bbb,ccc'.split(',') -> ['aaa', 'bbb', 'ccc']. As a convenient special case s.split() (with no arguments) splits on all whitespace chars.\n",
    "print(s.join('world')) # opposite of split(), joins the elements in the given list together using the string as the delimiter."
   ]
  },
  {
   "cell_type": "code",
   "execution_count": null,
   "id": "6a6383ca",
   "metadata": {},
   "outputs": [],
   "source": []
  }
 ],
 "metadata": {
  "kernelspec": {
   "display_name": "Python 3 (ipykernel)",
   "language": "python",
   "name": "python3"
  },
  "language_info": {
   "codemirror_mode": {
    "name": "ipython",
    "version": 3
   },
   "file_extension": ".py",
   "mimetype": "text/x-python",
   "name": "python",
   "nbconvert_exporter": "python",
   "pygments_lexer": "ipython3",
   "version": "3.9.13"
  }
 },
 "nbformat": 4,
 "nbformat_minor": 5
}
