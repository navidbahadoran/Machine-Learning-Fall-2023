{
 "cells": [
  {
   "cell_type": "markdown",
   "id": "02e3d47a",
   "metadata": {},
   "source": [
    "#### Why Python?\n",
    "- Easy to progam and prototype\n",
    "- Easy to debug\n",
    "- Free\n",
    "- Has many packages \n",
    "- The most popular programming language: https://www.tiobe.com/tiobe-index/\n",
    "- Ahead of C and C++\n",
    "- R is number 17\n",
    "- The most popular for computer vision and NLP: https://paperswithcode.com/\n",
    "- Can use GPU to greatly accelerate computation"
   ]
  },
  {
   "cell_type": "markdown",
   "id": "39a26ea6",
   "metadata": {},
   "source": [
    "#### Python installation:\n",
    "- Prefer Anaconda: https://www.anaconda.com/download\n",
    "- Has many packages preinstalled"
   ]
  },
  {
   "cell_type": "markdown",
   "id": "c882d5ba",
   "metadata": {},
   "source": [
    "#### Running Python code:\n",
    "- As a script (see hello.py), can use command line arguments\n",
    "- Interactive (in Spyder), easy to debug\n",
    "- Interactive as a Jupyter Notebook, easy to debug, save code and output"
   ]
  },
  {
   "cell_type": "markdown",
   "id": "556ad6ce",
   "metadata": {},
   "source": [
    "#### Indentation\n",
    "- Very important\n",
    "- Indentation is instead of brackets"
   ]
  },
  {
   "cell_type": "code",
   "execution_count": null,
   "id": "24ce1b76",
   "metadata": {},
   "outputs": [],
   "source": [
    "# correct indentation\n",
    "for i in range(5):\n",
    "    j=i\n",
    "    print(j)"
   ]
  },
  {
   "cell_type": "code",
   "execution_count": null,
   "id": "a385f791",
   "metadata": {},
   "outputs": [],
   "source": [
    "# no indentation\n",
    "for i in range(5):\n",
    "    j=i\n",
    "print(j)"
   ]
  },
  {
   "cell_type": "markdown",
   "id": "cfb651b8",
   "metadata": {},
   "source": [
    "#### Variables:\n",
    "- In Python 3 there is no limit on how large an integer is\n",
    "- Python only has one type of floating point variables "
   ]
  },
  {
   "cell_type": "code",
   "execution_count": null,
   "id": "a0f6183d",
   "metadata": {},
   "outputs": [],
   "source": [
    "print(999999999999999999999999999999999999999999999999999999999999999999999999999999999999999999+1)\n",
    "print(1.79e308) # largest number\n",
    "print(1.8e308)\n",
    "print(5e-324) # smallest positive number\n",
    "print(1e-325)\n",
    "print((1+1e-16)==1) # numerical precision\n",
    "print((1+1e-15)==1)\n",
    "x=1.e-2\n",
    "print(type(x)) # type returns the type of the variable"
   ]
  },
  {
   "cell_type": "markdown",
   "id": "c1408b2f",
   "metadata": {},
   "source": [
    "#### Operators\n",
    "- Standard operators +,-,*,/, +=, -=, */, /=, ==, !=\n",
    "- Special operators: **, //, %, not"
   ]
  },
  {
   "cell_type": "code",
   "execution_count": null,
   "id": "10a80c3c",
   "metadata": {},
   "outputs": [],
   "source": [
    "# Operator examples\n",
    "print(10/3) # regular division\n",
    "print(10//3) # integer division\n",
    "print(3*2) # multiplication\n",
    "print(3**2) #power\n",
    "print(15 % 4) # modulo\n",
    "print(not (1==0))\n",
    "print(1 !=0)"
   ]
  },
  {
   "cell_type": "markdown",
   "id": "78592402",
   "metadata": {},
   "source": [
    "#### Built-in functions\n",
    "- divmod(a,b) returns the division and modulo of a to b\n",
    "- abs, max, min, pow, round are standard"
   ]
  },
  {
   "cell_type": "code",
   "execution_count": null,
   "id": "53a23132",
   "metadata": {},
   "outputs": [],
   "source": [
    "# Built-in function examples\n",
    "print(divmod(17,4)) \n",
    "print(round(2.3))\n",
    "print(round(2.35,1))"
   ]
  },
  {
   "cell_type": "markdown",
   "id": "2833bf55",
   "metadata": {},
   "source": [
    "#### Type conversion\n",
    "- ascii()\tReturns a string containing a printable representation of an object\n",
    "- bin()\tConverts an integer to a binary string\n",
    "- hex()\tConverts an integer to a hexadecimal string\n",
    "- oct()\tConverts an integer to an octal string\n",
    "- bool()\tConverts an argument to a Boolean value\n",
    "- chr()\tReturns string representation of character given by integer argument\n",
    "- complex()\tReturns a complex number constructed from arguments\n",
    "- float()\tReturns a floating-point object constructed from a number or string\n",
    "- int()\tReturns an integer object constructed from a number or string\n",
    "- ord()\tReturns integer representation of a character\n",
    "- repr()\tReturns a string containing a printable representation of an object\n",
    "- str()\tReturns a string version of an object\n",
    "- type()\tReturns the type of an object or creates a new type object"
   ]
  },
  {
   "cell_type": "code",
   "execution_count": null,
   "id": "edfc6891",
   "metadata": {},
   "outputs": [],
   "source": [
    "# Type conversion examples\n",
    "print(ascii(67))\n",
    "print(bin(67))\n",
    "print(hex(67))\n",
    "print(oct(67))\n",
    "print(bool(67))\n",
    "print(chr(67))\n",
    "print(complex(67,2))\n",
    "print(float(67))\n",
    "print(int('67'))\n",
    "print(ord('A'))\n",
    "print(type(True))\n",
    "print(type(67))\n",
    "print(type(67.))"
   ]
  },
  {
   "cell_type": "markdown",
   "id": "1c07c186",
   "metadata": {},
   "source": [
    "#### Conditions and Loops\n",
    "- Conditions and loops are similar to C++\n",
    "- However, there is only while loop, there is no repeat-until"
   ]
  },
  {
   "cell_type": "code",
   "execution_count": null,
   "id": "c1c065e8",
   "metadata": {},
   "outputs": [],
   "source": [
    "# if example\n",
    "x=1\n",
    "if x==1:\n",
    "    print('x=1')\n",
    "else:\n",
    "    print('x is not 1')"
   ]
  },
  {
   "cell_type": "code",
   "execution_count": null,
   "id": "e0c86cf5",
   "metadata": {},
   "outputs": [],
   "source": [
    "# for example\n",
    "for x in range(3):\n",
    "    print(x)"
   ]
  },
  {
   "cell_type": "code",
   "execution_count": null,
   "id": "9ffa5c4c",
   "metadata": {},
   "outputs": [],
   "source": [
    "# while example\n",
    "i=0\n",
    "while i<3:\n",
    "    print(i)\n",
    "    i+=1"
   ]
  },
  {
   "cell_type": "code",
   "execution_count": null,
   "id": "7621d8fc",
   "metadata": {},
   "outputs": [],
   "source": [
    "# repeat-until-equivalent example\n",
    "i=0\n",
    "while True:\n",
    "    print(i)\n",
    "    i+=1\n",
    "    if i>=3:\n",
    "        break"
   ]
  },
  {
   "cell_type": "markdown",
   "id": "1ed1a24f",
   "metadata": {},
   "source": [
    "#### Iterators\n",
    "- Objects that can be iterated over, such as lists"
   ]
  },
  {
   "cell_type": "code",
   "execution_count": null,
   "id": "68ae2ef0",
   "metadata": {},
   "outputs": [],
   "source": [
    "l1 = [\"a\", \"b\", \"c\"]\n",
    "  \n",
    "# printing the tuples in object directly\n",
    "for x in enumerate(l1):\n",
    "    print (x)\n",
    "\n",
    "for i, ele in enumerate(l1):\n",
    "    print (i, ele)\n",
    "\n",
    "# changing index \n",
    "for i, ele in enumerate(l1,100):\n",
    "    print(i, ele)"
   ]
  },
  {
   "cell_type": "markdown",
   "id": "2b1d77ad",
   "metadata": {},
   "source": [
    "#### Packages\n",
    "Python has many packages that are useful\n",
    "- os: for operating system operations\n",
    "- matplotlib: for plotting\n",
    "- numpy: for arrays and numerical computation\n",
    "- pytorch: for deep learning and GPU processing"
   ]
  },
  {
   "cell_type": "markdown",
   "id": "a6e6f173",
   "metadata": {},
   "source": [
    "#### Numpy \n",
    "Numpy has multiple floating point and integer data types\n",
    "- bool_ Boolean (True or False) stored as a byte\n",
    "- int_ Default integer type (same as C long; normally either int64 or int32)\n",
    "- intc Identical to C int (normally int32 or int64)\n",
    "- intp Integer used for indexing (same as C ssize_t; normally either int32 or int64)\n",
    "- int8 Byte (–128 to 127)\n",
    "- int16 Integer (–32768 to 32767)\n",
    "- int32 Integer (–2147483648 to 2147483647)\n",
    "- int64 Integer (–9223372036854775808 to 9223372036854775807)\n",
    "- uint8 Unsigned integer (0 to 255)\n",
    "- uint16 Unsigned integer (0 to 65535)\n",
    "- uint32 Unsigned integer (0 to 4294967295)\n",
    "- uint64 Unsigned integer (0 to 18446744073709551615)\n",
    "- float_ Shorthand for float64\n",
    "- float16 Half-precision float: sign bit, 5 bits exponent, 10 bits mantissa\n",
    "- float32 Single-precision float: sign bit, 8 bits exponent, 23 bits mantissa\n",
    "- float64 Double-precision float: sign bit, 11 bits exponent, 52 bits mantissa\n",
    "- complex_ Shorthand for complex128\n",
    "- complex64 Complex number, represented by two 32-bit floats\n",
    "- complex128 Complex number, represented by two 64-bit floats"
   ]
  },
  {
   "cell_type": "code",
   "execution_count": null,
   "id": "5b409ebb",
   "metadata": {},
   "outputs": [],
   "source": [
    "# numpy float precision example\n",
    "import numpy as np\n",
    "j=range(20)\n",
    "x=np.array(j,dtype=np.float16)\n",
    "print(x)\n",
    "eps=10**(-x)\n",
    "print(eps)\n",
    "print(1+eps==1)"
   ]
  },
  {
   "cell_type": "code",
   "execution_count": null,
   "id": "0e2b4534",
   "metadata": {},
   "outputs": [],
   "source": [
    "# os package example\n",
    "from os import listdir\n",
    "from os.path import isfile\n",
    "fs= listdir('./') # list the files in a directory\n",
    "for f in fs:\n",
    "    #if isfile(f):\n",
    "    print(f)"
   ]
  },
  {
   "cell_type": "markdown",
   "id": "88d30c6f",
   "metadata": {},
   "source": [
    "#### Functions\n",
    "- If you have the same code in two different places, replace it with a function\n",
    "- If you have a bug in that code and fix it, you need to fix it in all places where you copied the code\n",
    "- If you have the function instead, you just fix the bug in the function and you are done"
   ]
  },
  {
   "cell_type": "code",
   "execution_count": null,
   "id": "8b995042",
   "metadata": {},
   "outputs": [],
   "source": [
    "# function example\n",
    "def fun(x):\n",
    "    return x**2,x**0.5\n",
    "\n",
    "a,b=fun(11)\n",
    "print(a,b)"
   ]
  },
  {
   "cell_type": "markdown",
   "id": "119bc5ee",
   "metadata": {},
   "source": [
    "#### Classes and objects\n",
    "- Classes can encapsulate multiple variables and functions\n",
    "- Classes can inherit from other classes\n",
    "- All variables are public\n",
    "- An object is an instance of a class"
   ]
  },
  {
   "cell_type": "code",
   "execution_count": null,
   "id": "28efc7c4",
   "metadata": {},
   "outputs": [],
   "source": [
    "# class example\n",
    "class Example:\n",
    "    def __init__(self,x): # constructor\n",
    "        self.x=x\n",
    "        self.x2=x**2\n",
    "    def print(self):\n",
    "        print(self.x,self.x2)\n",
    "    \n",
    "o=Example(5) # o is an instance of the Example class\n",
    "o.print()"
   ]
  },
  {
   "cell_type": "code",
   "execution_count": null,
   "id": "cc50c6ec",
   "metadata": {},
   "outputs": [],
   "source": [
    "# file read example\n",
    "f = open(\"train.txt\", \"r\")\n",
    "\n",
    "for line in f:\n",
    "    values = line.split()\n",
    "    print(values)\n",
    "\n",
    "f.close()"
   ]
  },
  {
   "cell_type": "code",
   "execution_count": null,
   "id": "88a0c529",
   "metadata": {},
   "outputs": [],
   "source": [
    "# checking that the file exists\n",
    "with open('train.txt', 'r') as f:\n",
    "    names = f.read().splitlines()\n",
    "    f.close()\n",
    "print(names)"
   ]
  },
  {
   "cell_type": "code",
   "execution_count": null,
   "id": "7f3ed27b",
   "metadata": {},
   "outputs": [],
   "source": [
    "#reading a matrix from a csv file using NumPy\n",
    "import numpy as np\n",
    "x = np.loadtxt(\"abalone.csv\", delimiter=',')\n",
    "print(x)"
   ]
  },
  {
   "cell_type": "code",
   "execution_count": null,
   "id": "a250bd1a",
   "metadata": {},
   "outputs": [],
   "source": [
    "#saving a matrix as a text file using NumPy\n",
    "np.savetxt('data.txt',x,'%f')"
   ]
  },
  {
   "cell_type": "code",
   "execution_count": null,
   "id": "6a6383ca",
   "metadata": {},
   "outputs": [],
   "source": [
    "divmod(17,4)"
   ]
  },
  {
   "cell_type": "code",
   "execution_count": null,
   "id": "42bda172",
   "metadata": {},
   "outputs": [],
   "source": []
  }
 ],
 "metadata": {
  "kernelspec": {
   "display_name": "Python 3 (ipykernel)",
   "language": "python",
   "name": "python3"
  },
  "language_info": {
   "codemirror_mode": {
    "name": "ipython",
    "version": 3
   },
   "file_extension": ".py",
   "mimetype": "text/x-python",
   "name": "python",
   "nbconvert_exporter": "python",
   "pygments_lexer": "ipython3",
   "version": "3.11.0"
  },
  "varInspector": {
   "cols": {
    "lenName": 16,
    "lenType": 16,
    "lenVar": 40
   },
   "kernels_config": {
    "python": {
     "delete_cmd_postfix": "",
     "delete_cmd_prefix": "del ",
     "library": "var_list.py",
     "varRefreshCmd": "print(var_dic_list())"
    },
    "r": {
     "delete_cmd_postfix": ") ",
     "delete_cmd_prefix": "rm(",
     "library": "var_list.r",
     "varRefreshCmd": "cat(var_dic_list()) "
    }
   },
   "types_to_exclude": [
    "module",
    "function",
    "builtin_function_or_method",
    "instance",
    "_Feature"
   ],
   "window_display": false
  }
 },
 "nbformat": 4,
 "nbformat_minor": 5
}
