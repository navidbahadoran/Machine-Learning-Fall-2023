{
 "cells": [
  {
   "cell_type": "markdown",
   "id": "39a26ea6",
   "metadata": {},
   "source": [
    "#### PyTorch:\n",
    "- package for deep learning\n",
    "- many built-in neural networks components\n",
    "- automatic differentiation\n",
    "- uses the GPU for faster computation\n",
    "- made by Facebook\n",
    "- documentation at https://pytorch.org/docs/stable/index.html\n",
    "\n",
    "#### GPU (Graphics Processing Unit)\n",
    "- a chip that has many simple processors (cores)\n",
    "- nowadays 3000-10000+ cores on a single chip\n",
    "- video card with specialized GPU memory for fast communication\n",
    "- can do embarasingly parallel computation\n",
    "- matrix operations, image processing, etc\n",
    "- CUDA is a GPU language developed by Nvidia\n",
    "- we want Nvidia GPUs, e.g. on GeForce video cards (e.g. 3060 that has ~3000 cores and 16Gb memory)"
   ]
  },
  {
   "cell_type": "markdown",
   "id": "6be96088",
   "metadata": {},
   "source": [
    "#### Installing PyTorch\n",
    "- follow the instructions at https://pytorch.org/\n",
    "- specific commands for different operating systems, Python environments and GPU CUDA versions"
   ]
  },
  {
   "cell_type": "markdown",
   "id": "4c004eb1",
   "metadata": {},
   "source": [
    "#### Using the GPU\n",
    "- if you have a GPU and have installed PyTorch with CUDA, this should work\n",
    "- if it works, then 'device' is the GPU"
   ]
  },
  {
   "cell_type": "code",
   "execution_count": 19,
   "id": "57e00047",
   "metadata": {},
   "outputs": [
    {
     "name": "stdout",
     "output_type": "stream",
     "text": [
      "cuda:0\n"
     ]
    }
   ],
   "source": [
    "import torch\n",
    "\n",
    "device = torch.device(\"cuda:0\" if torch.cuda.is_available() else \"cpu\")\n",
    "# Assuming that we are on a CUDA machine, this should print a CUDA device:\n",
    "print(device)"
   ]
  },
  {
   "cell_type": "markdown",
   "id": "58db6045",
   "metadata": {},
   "source": [
    "#### PyTorch Tensors\n",
    "- similar to NumPy arrays\n",
    "- similar operations and broadcasting\n",
    "- have some extra capabilities\n",
    "- can exist either on the CPU or on the GPU\n",
    "\n",
    "Available data types:\n",
    "- torch.bool\n",
    "- torch.uint8\n",
    "- torch.int8, torch.int16, torch.int32, torch.int64\n",
    "- torch.half, torch.float, torch.double, torch.bfloat"
   ]
  },
  {
   "cell_type": "code",
   "execution_count": null,
   "id": "7fc85469",
   "metadata": {},
   "outputs": [],
   "source": [
    "x=torch.tensor([[1,2],[3,4]], device=device).float()\n",
    "print(x)"
   ]
  },
  {
   "cell_type": "code",
   "execution_count": null,
   "id": "8673cf4d",
   "metadata": {},
   "outputs": [],
   "source": [
    "# Tensor examples\n",
    "x=torch.zeros((2,7), device=device) # vector made directly on the GPU\n",
    "print(x)\n",
    "x=torch.ones((2,7), dtype=torch.half).to(device) # vector made on the CPU, then copied to the GPU\n",
    "print(x)\n",
    "x1=torch.ones((2,7)).double()  # can convert to different data types for the desired precision\n",
    "print(x1)\n",
    "print(x1.to(device))\n",
    "print(x1.long())\n",
    "print(x.device,x1.device)\n",
    "print(x.to('cpu')+x1)"
   ]
  },
  {
   "cell_type": "code",
   "execution_count": null,
   "id": "78a2ea59",
   "metadata": {},
   "outputs": [],
   "source": [
    "x=torch.randn(2,3,2)\n",
    "print(x.shape)\n",
    "y=x.permute(1,2,0)  # permuting dimensions\n",
    "print(y.shape)\n",
    "z=x.unsqueeze(1)    # adding an extra dimension\n",
    "print(z.shape)\n"
   ]
  },
  {
   "cell_type": "code",
   "execution_count": null,
   "id": "1709cacf",
   "metadata": {},
   "outputs": [],
   "source": [
    "# Some important operations\n",
    "x=torch.randn(2,3,2)\n",
    "print(x.shape)\n",
    "y=x.permute(1,2,0)  # permuting dimensions\n",
    "print(y.shape)\n",
    "z=x.unsqueeze(1)    # adding an extra dimension\n",
    "print(z.shape)\n",
    "x=torch.randn(2,4)\n",
    "print(x)\n",
    "#w=x.clone()         # make a copy\n",
    "w=x\n",
    "w[0,0]=1\n",
    "print(w)\n",
    "print(torch.eq(x, w)) # check whether they are identical\n",
    "nx=x.numpy()        # convert to NumPy array\n",
    "xx=torch.from_numpy(nx) # convert from NumPy array\n",
    "print(nx)\n",
    "print(xx)"
   ]
  },
  {
   "cell_type": "markdown",
   "id": "5fdf7cb6",
   "metadata": {},
   "source": [
    "#### Linear Algebra\n",
    "- most linear algebra functions are implemented\n",
    "- det, logdet, inv, pinv, solve\n",
    "- svd, eig\n",
    "- cholesky, qr, lu"
   ]
  },
  {
   "cell_type": "code",
   "execution_count": null,
   "id": "5d299e64",
   "metadata": {},
   "outputs": [],
   "source": [
    "# Linear algebra examples\n",
    "A=torch.rand(5,5)\n",
    "Ai=torch.linalg.inv(A)\n",
    "print(Ai)\n",
    "u,d,vt=torch.linalg.svd(A)\n",
    "print(d)\n",
    "B=torch.rand(5,1)\n",
    "x=torch.linalg.solve(A,B)\n",
    "print(x)\n",
    "print(torch.det(A), torch.logdet(A))"
   ]
  },
  {
   "cell_type": "markdown",
   "id": "13bcad34",
   "metadata": {},
   "source": [
    "#### Batching\n",
    "- many matrix operations can be done in batches\n",
    "- the first dimensions are assumed to be indices, and last two are actual matrices\n",
    "- takes advantage of the GPU\n",
    "- current GPUs have 3000-10000 cores, can do many multiplications simultaneously"
   ]
  },
  {
   "cell_type": "code",
   "execution_count": null,
   "id": "a80e9b5e",
   "metadata": {},
   "outputs": [],
   "source": [
    "# Batching examples\n",
    "A=torch.rand(100,5,5).double()  # 100 matrices of size 5x5\n",
    "print(A.shape)\n",
    "Ai=torch.linalg.inv(A) # the inverse of 100 matrices of size 5x5\n",
    "print(torch.det(A))\n",
    "B=torch.rand(100,5,1).double()  # 100 vectors of size 5x1\n",
    "x=torch.linalg.solve(A,B)\n",
    "print(x.shape)\n",
    "Dif=A@x-B              # Check the difference between Ax and B\n",
    "l2dif=torch.sum(Dif**2,1).squeeze()\n",
    "print(l2dif)  # Compute the L2 square norms of the vectors\n",
    "print(torch.max(l2dif))"
   ]
  },
  {
   "cell_type": "code",
   "execution_count": null,
   "id": "3ee36599",
   "metadata": {},
   "outputs": [],
   "source": [
    "#### Random Number Generation\n",
    "- most NumPy Functions are implemented.\n",
    "- can use a seed to generaye exactly the same psudo-random sequence"
   ]
  },
  {
   "cell_type": "code",
   "execution_count": null,
   "id": "abfe48f9",
   "metadata": {},
   "outputs": [],
   "source": [
    "torch.manual_seed(0)"
   ]
  },
  {
   "cell_type": "code",
   "execution_count": null,
   "id": "6fcaa2aa",
   "metadata": {},
   "outputs": [],
   "source": [
    "a=torch.randn(5,5)\n",
    "print(a)"
   ]
  },
  {
   "cell_type": "code",
   "execution_count": null,
   "id": "de0c41fe",
   "metadata": {},
   "outputs": [],
   "source": [
    "#### Distributions\n",
    "- can generate samples from various distribution families\n",
    "- Bernoulli, binomial, multinomial, Exponential, LogNormal\n",
    "- Multi-variate Gaussian, Beta, Gamma, Cauchy, Chi^2, Dirichlet\n",
    "- Pareto, Poisson, StudentT, VonMises, Weibull, Wishart"
   ]
  },
  {
   "cell_type": "code",
   "execution_count": 21,
   "id": "3f7f802e",
   "metadata": {},
   "outputs": [
    {
     "name": "stdout",
     "output_type": "stream",
     "text": [
      "time=0.11\n",
      "time=1.27\n"
     ]
    },
    {
     "data": {
      "image/png": "[encoded data removed]",
      "text/plain": [
       "<Figure size 640x480 with 1 Axes>"
      ]
     },
     "metadata": {},
     "output_type": "display_data"
    }
   ],
   "source": [
    "# MultivariateNormal example\n",
    "import matplotlib.pyplot as plt\n",
    "from time import time\n",
    "t0=time()\n",
    "p=10000\n",
    "if 1:\n",
    "    mu=torch.zeros(p,device=device)\n",
    "    x=torch.randn((p,p),device=device)\n",
    "    d=torch.diag(1+torch.randn(p,device=device)**2)\n",
    "else:\n",
    "    mu=torch.zeros(p)\n",
    "    x=torch.randn((p,p))\n",
    "    d=torch.diag(1+torch.randn(p)**2)\n",
    "q,r=torch.linalg.qr(x)\n",
    "sigma=q.t()@d@q\n",
    "t1=time()\n",
    "print('time=%1.2f'%(t1-t0))\n",
    "#print(torch.logdet(sigma))\n",
    "mvn=torch.distributions.MultivariateNormal(mu, sigma)\n",
    "x=mvn.sample([10000])\n",
    "print('time=%1.2f'%(time()-t1))\n",
    "plt.plot(x[:,0].cpu(),x[:,1].cpu(),'.')\n",
    "plt.show()"
   ]
  },
  {
   "cell_type": "code",
   "execution_count": null,
   "id": "af2405b7",
   "metadata": {},
   "outputs": [],
   "source": [
    "mn=torch.distributions.multinomial.Multinomial(1000, torch.tensor([0.1,0.2,0.7]))\n",
    "x=mn.sample([10])\n",
    "print(x)"
   ]
  },
  {
   "cell_type": "markdown",
   "id": "876722c0",
   "metadata": {},
   "source": [
    "#### LowRankMultivariateNormal\n",
    "- a multivariate normal with Sigma=WW^T+diag(d)\n",
    "- need to sepcify the low rank W and the vector d"
   ]
  },
  {
   "cell_type": "code",
   "execution_count": null,
   "id": "6c6b1ed0",
   "metadata": {},
   "outputs": [],
   "source": [
    "# mixture of LowRankMultivarianteNormal example\n",
    "mix = torch.distributions.Categorical(torch.ones(4,))\n",
    "mus=torch.tensor([[0.,0],[5,0],[5,5],[-5,-5]])\n",
    "#comp = torch.distributions.MultivariateNormal(mus, torch.tensor([[1.1,-1],[-1,1.1]]))\n",
    "w = torch.randn(4,2,1)\n",
    "diag=torch.ones(2)*0.03\n",
    "comp = torch.distributions.LowRankMultivariateNormal(mus,w,diag) # a batch of four distributions\n",
    "gmm = torch.distributions.MixtureSameFamily(mix, comp)\n",
    "x=gmm.sample([1000])\n",
    "plt.plot(x[:,0],x[:,1],'.')\n",
    "plt.show()"
   ]
  },
  {
   "cell_type": "code",
   "execution_count": null,
   "id": "0d31db0b",
   "metadata": {},
   "outputs": [],
   "source": [
    "# KL Divergence\n",
    "d=torch.distributions.kl.kl_divergence(mvn,comp)\n",
    "print(d)"
   ]
  },
  {
   "cell_type": "markdown",
   "id": "558f94f6",
   "metadata": {},
   "source": [
    "#### Loading Images\n",
    "- can be done using different packages\n",
    "- must be careful that the image is not distroted in some way"
   ]
  },
  {
   "cell_type": "code",
   "execution_count": null,
   "id": "82216bac",
   "metadata": {},
   "outputs": [],
   "source": [
    "from os import listdir\n",
    "from os.path import isfile, join\n",
    "import imageio.v2 as imageio\n",
    "mypath=\"d:/tmp/cnntest/\"\n",
    "files = [f for f in listdir(mypath) if isfile(join(mypath, f))]\n",
    "n=len(files)\n",
    "print(n)\n",
    "x=torch.zeros([n,3,64,64], dtype=torch.float32)\n",
    "for i in range(n):\n",
    "    im = imageio.imread(join(mypath, files[i])) # 64x64x3\n",
    "    x[i,:,:,:]=torch.from_numpy(im).permute(2,0,1)\n",
    "    if i==2220:\n",
    "        print(im)\n",
    "        plt.imshow(im)"
   ]
  },
  {
   "cell_type": "code",
   "execution_count": null,
   "id": "a1adbc7c",
   "metadata": {},
   "outputs": [],
   "source": [
    "mx=torch.mean(x,axis=0)\n",
    "print(mx)\n",
    "plt.imshow(mx.permute(1,2,0)/255)"
   ]
  },
  {
   "cell_type": "markdown",
   "id": "06225084",
   "metadata": {},
   "source": [
    "#### Saving Data and Models\n",
    "- use torch.save and torch.load\n",
    "- if the tensor is on GPU, it will be loaded on GPU"
   ]
  },
  {
   "cell_type": "code",
   "execution_count": null,
   "id": "2fc096b3",
   "metadata": {},
   "outputs": [],
   "source": [
    "torch.save({'x':x,'mx':mx.to(device)},'data.pt')"
   ]
  },
  {
   "cell_type": "code",
   "execution_count": null,
   "id": "f29d5ad3",
   "metadata": {},
   "outputs": [],
   "source": [
    "# Save and load example\n",
    "d=torch.load('data.pt')\n",
    "print(d.keys())\n",
    "x1=d['x']\n",
    "mx1=d['mx']\n",
    "print(mx1.device)\n",
    "print(x1.device)"
   ]
  },
  {
   "cell_type": "code",
   "execution_count": null,
   "id": "ef5b2b85",
   "metadata": {},
   "outputs": [],
   "source": []
  }
 ],
 "metadata": {
  "kernelspec": {
   "display_name": "Python 3 (ipykernel)",
   "language": "python",
   "name": "python3"
  },
  "language_info": {
   "codemirror_mode": {
    "name": "ipython",
    "version": 3
   },
   "file_extension": ".py",
   "mimetype": "text/x-python",
   "name": "python",
   "nbconvert_exporter": "python",
   "pygments_lexer": "ipython3",
   "version": "3.11.0"
  },
  "varInspector": {
   "cols": {
    "lenName": 16,
    "lenType": 16,
    "lenVar": 40
   },
   "kernels_config": {
    "python": {
     "delete_cmd_postfix": "",
     "delete_cmd_prefix": "del ",
     "library": "var_list.py",
     "varRefreshCmd": "print(var_dic_list())"
    },
    "r": {
     "delete_cmd_postfix": ") ",
     "delete_cmd_prefix": "rm(",
     "library": "var_list.r",
     "varRefreshCmd": "cat(var_dic_list()) "
    }
   },
   "types_to_exclude": [
    "module",
    "function",
    "builtin_function_or_method",
    "instance",
    "_Feature"
   ],
   "window_display": false
  }
 },
 "nbformat": 4,
 "nbformat_minor": 5
}
