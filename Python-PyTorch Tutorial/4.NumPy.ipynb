{
 "cells": [
  {
   "cell_type": "markdown",
   "id": "39a26ea6",
   "metadata": {},
   "source": [
    "#### NumPy:\n",
    "- a package for working with arrays\n",
    "- has linear algebra, Fourier transforms and matrices\n",
    "- about 50x faster than lists because of locality of reference"
   ]
  },
  {
   "cell_type": "code",
   "execution_count": 1,
   "id": "6a6383ca",
   "metadata": {},
   "outputs": [
    {
     "name": "stdout",
     "output_type": "stream",
     "text": [
      "[1 2 3 4 5]\n",
      "[1, 2, 3, 4, 5]\n",
      "1.23.5\n"
     ]
    }
   ],
   "source": [
    "# example\n",
    "import numpy as np\n",
    "x = np.array([1, 2, 3, 4, 5])\n",
    "y=[1, 2, 3, 4, 5]\n",
    "print(x)\n",
    "print(y)\n",
    "print(np.__version__) # prints the NumPy version"
   ]
  },
  {
   "cell_type": "code",
   "execution_count": 2,
   "id": "4cee7670",
   "metadata": {},
   "outputs": [
    {
     "name": "stdout",
     "output_type": "stream",
     "text": [
      "0 1 2 3\n",
      "11\n",
      "[1 2 3 4 5]\n",
      "[[1 2 3]\n",
      " [4 5 6]]\n",
      "[[[1 2 3]\n",
      "  [4 5 6]]\n",
      "\n",
      " [[1 2 3]\n",
      "  [4 5 6]]]\n",
      "(2, 2, 3)\n"
     ]
    }
   ],
   "source": [
    "# Creating arrays\n",
    "a = np.array(11) #0D array\n",
    "b = np.array([1, 2, 3, 4, 5]) #1D array\n",
    "c = np.array([[1, 2, 3], [4, 5, 6]]) # 2D array\n",
    "d = np.array([[[1, 2, 3], [4, 5, 6]], [[1, 2, 3], [4, 5, 6]]]) # 3D array\n",
    "\n",
    "print(a.ndim, b.ndim, c.ndim, d.ndim)\n",
    "print(a)\n",
    "print(b)\n",
    "print(c)\n",
    "print(d)\n",
    "print(d.shape)"
   ]
  },
  {
   "cell_type": "code",
   "execution_count": 3,
   "id": "936b7965",
   "metadata": {},
   "outputs": [
    {
     "name": "stdout",
     "output_type": "stream",
     "text": [
      "[[0. 0. 0. 0. 0. 0. 0. 0. 0. 0.]\n",
      " [0. 0. 0. 0. 0. 0. 0. 0. 0. 0.]\n",
      " [0. 0. 0. 0. 0. 0. 0. 0. 0. 0.]]\n",
      "[[1. 1. 1. 1. 1. 1. 1. 1. 1. 1.]\n",
      " [1. 1. 1. 1. 1. 1. 1. 1. 1. 1.]\n",
      " [1. 1. 1. 1. 1. 1. 1. 1. 1. 1.]]\n",
      "[0 1 2 3 4 5 6 7 8 9]\n"
     ]
    }
   ],
   "source": [
    "# Creating arrays\n",
    "x = np.zeros((3,10))\n",
    "print(x)\n",
    "o=np.ones((3,10))\n",
    "print(o)\n",
    "x=np.arange(10)\n",
    "print(x)"
   ]
  },
  {
   "cell_type": "code",
   "execution_count": 4,
   "id": "e3b9d3e4",
   "metadata": {},
   "outputs": [
    {
     "name": "stdout",
     "output_type": "stream",
     "text": [
      "[[[[[1 2 3 4]]]]]\n",
      "number of dimensions : 5\n",
      "(1, 1, 1, 1, 4)\n"
     ]
    }
   ],
   "source": [
    "# Creating array of arbitrarily many dimensions\n",
    "x = np.array([1, 2, 3, 4], ndmin=5)\n",
    "\n",
    "print(x)\n",
    "print('number of dimensions :', x.ndim)\n",
    "print(x.shape)"
   ]
  },
  {
   "cell_type": "code",
   "execution_count": 7,
   "id": "e2c1c9e2",
   "metadata": {},
   "outputs": [
    {
     "name": "stdout",
     "output_type": "stream",
     "text": [
      "(2, 3)\n",
      "[[1 2 3]\n",
      " [4 5 6]]\n",
      "6\n",
      "(2, 2, 3)\n",
      "6\n",
      "[5 6]\n",
      "[0 2 4 6 8]\n"
     ]
    }
   ],
   "source": [
    "# array indexing - similar to lists\n",
    "c = np.array([[1, 2, 3], [4, 5, 6]]) # 2D array\n",
    "print(c.shape)\n",
    "print(c)\n",
    "print(c[1,2])\n",
    "d = np.array([[[1, 2, 3], [4, 5, 6]], [[1, 2, 3], [4, 5, 6]]]) # 3D array\n",
    "print(d.shape)\n",
    "print(d[1,1,2])\n",
    "print(d[0,1,-2:]) # slice with negative indexing\n",
    "x=np.arange(10)\n",
    "print(x[0:10:2])  # slice with step"
   ]
  },
  {
   "cell_type": "markdown",
   "id": "664d0590",
   "metadata": {},
   "source": [
    "#### Array data types\n",
    "- i - integer\n",
    "- b - boolean\n",
    "- u - unsigned integer\n",
    "- f - float\n",
    "- c - complex float\n",
    "- m - timedelta\n",
    "- M - datetime\n",
    "- O - object\n",
    "- S - string\n",
    "- U - unicode string\n",
    "- V - fixed chunk of memory for other type ( void )"
   ]
  },
  {
   "cell_type": "code",
   "execution_count": 8,
   "id": "99bb66c3",
   "metadata": {},
   "outputs": [
    {
     "name": "stdout",
     "output_type": "stream",
     "text": [
      "int32\n",
      "<U6\n",
      "|S6\n",
      "float32\n",
      "[1. 2. 3. 4.]\n",
      "[1 2 3 4]\n"
     ]
    }
   ],
   "source": [
    "# array data types\n",
    "x = np.array([1, 2, 3, 4])\n",
    "print(x.dtype)\n",
    "a = np.array(['apple', 'banana', 'cherry'])\n",
    "print(a.dtype)\n",
    "a = np.array(['apple', 'banana', 'cherry'], dtype='S')\n",
    "print(a.dtype)\n",
    "x = np.array([1, 2, 3, 4],dtype=np.float32)\n",
    "print(x.dtype)\n",
    "print(x)\n",
    "print(x.astype('i'))  # convert to another data type"
   ]
  },
  {
   "cell_type": "code",
   "execution_count": 9,
   "id": "34da0837",
   "metadata": {},
   "outputs": [
    {
     "name": "stdout",
     "output_type": "stream",
     "text": [
      "(2, 3, 2)\n",
      "[[[ 0  1]\n",
      "  [ 2  3]\n",
      "  [ 4  5]]\n",
      "\n",
      " [[ 6  7]\n",
      "  [ 8  9]\n",
      "  [10 11]]]\n",
      "[[ 0  1  2  3  4  5]\n",
      " [ 6  7  8  9 10 11]]\n",
      "[ 0  1  2  3  4  5  6  7  8  9 10 11]\n",
      "[ 0 10  2  3  4  5  6  7  8  9 10 11]\n",
      "[ 0 10  2  3  4  5  6  7  8  9 10 11]\n",
      "[[ 0  3  6  9]\n",
      " [10  4  7 10]\n",
      " [ 2  5  8 11]]\n"
     ]
    }
   ],
   "source": [
    "# Reshaping arrays\n",
    "x = np.arange(12)\n",
    "y = x.reshape(2, 3, 2)\n",
    "print(y.shape)\n",
    "print(y)\n",
    "print(x.reshape(-1,6)) #  choosing the number of rows automatically\n",
    "print(y.base)          # print the original shape, so y is a view, not a copy of x\n",
    "y[0,0,1]=10\n",
    "print(x)               # yes indeed\n",
    "print(y.reshape(-1))   # flattening y\n",
    "y=x.reshape(4, 3)\n",
    "print(y.T)  # transpose"
   ]
  },
  {
   "cell_type": "code",
   "execution_count": 10,
   "id": "4320ba4b",
   "metadata": {},
   "outputs": [
    {
     "name": "stdout",
     "output_type": "stream",
     "text": [
      "(1, 2, 5)\n",
      "(2, 5)\n"
     ]
    }
   ],
   "source": [
    "# Squeezing out irrelevant dimensions\n",
    "x = np.arange(10)\n",
    "y = x.reshape(1,2,5)\n",
    "print(y.shape)\n",
    "print(y.squeeze().shape) # squeeze out irrelevant dimensions"
   ]
  },
  {
   "cell_type": "code",
   "execution_count": 11,
   "id": "5c71f79e",
   "metadata": {},
   "outputs": [
    {
     "name": "stdout",
     "output_type": "stream",
     "text": [
      "(0, 0) 0\n",
      "(0, 1) 1\n",
      "(0, 2) 2\n",
      "(0, 3) 3\n",
      "(0, 4) 4\n",
      "(1, 0) 5\n",
      "(1, 1) 6\n",
      "(1, 2) 7\n",
      "(1, 3) 8\n",
      "(1, 4) 9\n"
     ]
    }
   ],
   "source": [
    "y = x.reshape(2,5)\n",
    "for idx, i in np.ndenumerate(y):\n",
    "    print(idx, i)"
   ]
  },
  {
   "cell_type": "code",
   "execution_count": 12,
   "id": "8daf0829",
   "metadata": {},
   "outputs": [
    {
     "name": "stdout",
     "output_type": "stream",
     "text": [
      "[0 1 2 3 4]\n",
      "[5 6 7 8 9]\n",
      "0\n",
      "1\n",
      "2\n",
      "3\n",
      "4\n",
      "5\n",
      "6\n",
      "7\n",
      "8\n",
      "9\n",
      "0\n",
      "1\n",
      "2\n",
      "3\n",
      "4\n",
      "5\n",
      "6\n",
      "7\n",
      "8\n",
      "9\n",
      "(0, 0) 0\n",
      "(0, 1) 1\n",
      "(0, 2) 2\n",
      "(0, 3) 3\n",
      "(0, 4) 4\n",
      "(1, 0) 5\n",
      "(1, 1) 6\n",
      "(1, 2) 7\n",
      "(1, 3) 8\n",
      "(1, 4) 9\n"
     ]
    }
   ],
   "source": [
    "# iterating through arrays\n",
    "for i in y:       # like a list of lists\n",
    "    print(i)\n",
    "for i in y:\n",
    "    for j in i:\n",
    "        print(j)\n",
    "for i in np.nditer(y): # iterates through all elements\n",
    "    print(i)\n",
    "for idx, i in np.ndenumerate(y):\n",
    "    print(idx, i)"
   ]
  },
  {
   "cell_type": "code",
   "execution_count": 25,
   "id": "309a6b34",
   "metadata": {},
   "outputs": [
    {
     "name": "stdout",
     "output_type": "stream",
     "text": [
      "[[1 2 3]\n",
      " [4 5 6]]\n"
     ]
    }
   ],
   "source": [
    "x = np.array([1, 2, 3])\n",
    "y = np.array([4, 5, 6])\n",
    "a = np.concatenate((x.reshape(1,-1), y.reshape(1,-1)),axis=0)  # concatenate\n",
    "print(a)"
   ]
  },
  {
   "cell_type": "code",
   "execution_count": 24,
   "id": "4c32a6aa",
   "metadata": {},
   "outputs": [
    {
     "name": "stdout",
     "output_type": "stream",
     "text": [
      "(6,)\n",
      "(2, 3)\n",
      "[[1 2 3]\n",
      " [4 5 6]]\n",
      "[[1 2 3]\n",
      " [4 5 6]]\n"
     ]
    }
   ],
   "source": [
    "# Concatenating arrays\n",
    "x = np.array([1, 2, 3])\n",
    "y = np.array([4, 5, 6])\n",
    "a = np.concatenate((x, y))  # concatenate\n",
    "b = np.stack((x, y), axis=0) #stack along given dimension\n",
    "c = np.vstack((x, y))       # stack vertically\n",
    "print(a.shape)\n",
    "print(b.shape)\n",
    "print(b)\n",
    "print(c)"
   ]
  },
  {
   "cell_type": "code",
   "execution_count": null,
   "id": "945d1d75",
   "metadata": {},
   "outputs": [],
   "source": [
    "# Splitting arrays\n",
    "x = np.array([1, 2, 3, 4, 5, 6])\n",
    "a = np.array_split(x, 3)\n",
    "print(a)\n",
    "x = np.array([[1, 2, 3], [4, 5, 6], [7, 8, 9], [10, 11, 12], [13, 14, 15], [16, 17, 18]])\n",
    "a = np.array_split(x, 3, axis=0)\n",
    "print(x)\n",
    "print(a)"
   ]
  },
  {
   "cell_type": "code",
   "execution_count": null,
   "id": "bed2591a",
   "metadata": {},
   "outputs": [],
   "source": [
    "x = np.array([1, 2, 3, 4, 5, 2, 4])\n",
    "j=(x>2)   # obtaining a filter\n",
    "print(j)\n",
    "print(x[j])"
   ]
  },
  {
   "cell_type": "code",
   "execution_count": null,
   "id": "b0b34284",
   "metadata": {},
   "outputs": [],
   "source": [
    "# Searching arrays\n",
    "x = np.array([1, 2, 3, 4, 5, 2, 4])\n",
    "i = np.where(x == 4)\n",
    "print(i)\n",
    "j=(x>2)   # obtaining a filter\n",
    "print(j)\n",
    "print(x[j])\n",
    "x[x==4]=6   # replacing values\n",
    "print(x)"
   ]
  },
  {
   "cell_type": "code",
   "execution_count": null,
   "id": "f68ec9f8",
   "metadata": {},
   "outputs": [],
   "source": [
    "y=np.array([-1,-1,-1,-1,1,1,1,1])\n",
    "y[y<0]=0\n",
    "y"
   ]
  },
  {
   "cell_type": "markdown",
   "id": "3be71f37",
   "metadata": {},
   "source": [
    "#### Array Operations\n",
    "- standard ones: +,-,* ,/,** (power)\n",
    "- matrix multiplication @"
   ]
  },
  {
   "cell_type": "code",
   "execution_count": 26,
   "id": "f683df1a",
   "metadata": {},
   "outputs": [
    {
     "name": "stdout",
     "output_type": "stream",
     "text": [
      "[[ 5]\n",
      " [11]]\n",
      "[[ 5]\n",
      " [11]]\n",
      "[[ 1  4]\n",
      " [ 9 16]]\n"
     ]
    }
   ],
   "source": [
    "# matrix multiplication example\n",
    "x=np.array([[1,2],[3,4]])\n",
    "y=np.array([1,2]).reshape(2,1)\n",
    "print(x@y)\n",
    "print(np.matmul(x,y))\n",
    "z=x*x\n",
    "print(z)"
   ]
  },
  {
   "cell_type": "markdown",
   "id": "042216c0",
   "metadata": {},
   "source": [
    "#### Broadcasting\n",
    "- an important feature to facilitate operations\n",
    "- reshapes vectors so that operations can be completed in some cases"
   ]
  },
  {
   "cell_type": "code",
   "execution_count": null,
   "id": "9c63c8c3",
   "metadata": {},
   "outputs": [],
   "source": [
    "# Broadcasting example\n",
    "x=np.array([[1,1],[2,2]])\n",
    "y=np.array([0,1])\n",
    "y1=y.reshape(1,2)\n",
    "z=np.array([0,1]).reshape(2,1)\n",
    "print(x)\n",
    "print(x*y) # y was made 2x2 by copying it as a row\n",
    "print(x*y1) # y1 was made 2x2 by copying it as a row\n",
    "print(x*z) # z was made 2x2 by copying it as a column\n",
    "print(y1+z) # both y and z were broadcasted"
   ]
  },
  {
   "cell_type": "code",
   "execution_count": null,
   "id": "84ca3c9b",
   "metadata": {},
   "outputs": [],
   "source": [
    "x = np.arange(12).astype('f4').reshape(3,4)\n",
    "print(x)\n",
    "print(np.sum(x))\n"
   ]
  },
  {
   "cell_type": "code",
   "execution_count": null,
   "id": "09bd0e40",
   "metadata": {},
   "outputs": [],
   "source": [
    "# sum, mean, etc\n",
    "x = np.arange(12).astype('f4').reshape(3,4)\n",
    "print(x)\n",
    "print(np.sum(x,axis=1))\n",
    "print(np.mean(x,axis=1))\n",
    "print(np.std(x,axis=0))\n",
    "print(np.var(x,axis=1))\n",
    "print(np.prod(x,axis=1))\n",
    "print(np.cumsum(x))  # cumulative sum"
   ]
  },
  {
   "cell_type": "code",
   "execution_count": null,
   "id": "5da55745",
   "metadata": {},
   "outputs": [],
   "source": [
    "mx=np.mean(x,axis=0)\n",
    "sx=np.std(x,axis=0)\n",
    "print(mx)\n",
    "x=(x-mx)/sx\n",
    "print(np.mean(x,axis=0))\n",
    "print(np.std(x,axis=0))\n"
   ]
  },
  {
   "cell_type": "code",
   "execution_count": null,
   "id": "c442455b",
   "metadata": {},
   "outputs": [],
   "source": [
    "x = np.array(['cat','dog','cat','fox'])\n",
    "u = np.unique(x)  \n",
    "print(u)"
   ]
  },
  {
   "cell_type": "code",
   "execution_count": null,
   "id": "ae9abc35",
   "metadata": {},
   "outputs": [],
   "source": [
    "# Set operations\n",
    "x = np.array([1, 1, 1, 2, 3, 4, 5, 5, 6, 7])\n",
    "u = np.unique(x)  \n",
    "print(u)\n",
    "a = np.array([1, 2, 3, 4])\n",
    "b = np.array([3, 4, 5, 6])\n",
    "\n",
    "au = np.union1d(a, b)\n",
    "ai = np.intersect1d(a, b, assume_unique=True)\n",
    "ad = np.setdiff1d(a,b, assume_unique=True)\n",
    "ax = np.setxor1d(a, b, assume_unique=True)\n",
    "\n",
    "print(au)\n",
    "print(ai)\n",
    "print(ad)\n",
    "print(ax)"
   ]
  },
  {
   "cell_type": "markdown",
   "id": "473dcee9",
   "metadata": {},
   "source": [
    "#### Random number generation\n",
    "- choice(x,p,size) samples from a pmf at locations in x, with probabilities p"
   ]
  },
  {
   "cell_type": "code",
   "execution_count": null,
   "id": "ae192fca",
   "metadata": {},
   "outputs": [],
   "source": [
    "from numpy import random\n",
    "l=[[1,1], [3,2], [4,5], [7,4]]\n",
    "x = random.choice([0,1,2,3], p=[0.1, 0.2, 0.6, 0.1], size=(3,9))\n",
    "print(x)"
   ]
  },
  {
   "cell_type": "markdown",
   "id": "f63da11d",
   "metadata": {},
   "source": [
    "#### Random permutations\n",
    "- permutation - returns a permutation of the array\n",
    "- shuffle - shuffles in place"
   ]
  },
  {
   "cell_type": "code",
   "execution_count": null,
   "id": "265500bb",
   "metadata": {},
   "outputs": [],
   "source": [
    "x = np.array(range(5))\n",
    "print(x)\n",
    "y=random.permutation(x)\n",
    "print(y)\n",
    "random.shuffle(x)\n",
    "print(x)"
   ]
  },
  {
   "cell_type": "markdown",
   "id": "bd719b8a",
   "metadata": {},
   "source": [
    "Sampling from different distributions\n",
    "- normal, uniform\n",
    "- binomial, multinomial\n",
    "- Poisson, exponential, chi-square\n",
    "- Rayleigh, Pareto, zipf"
   ]
  },
  {
   "cell_type": "code",
   "execution_count": null,
   "id": "e03f6e11",
   "metadata": {},
   "outputs": [],
   "source": [
    "xn = random.normal(loc=1, scale=0.5, size=(1000))\n",
    "print(xn)"
   ]
  },
  {
   "cell_type": "code",
   "execution_count": null,
   "id": "7db6eda7",
   "metadata": {},
   "outputs": [],
   "source": [
    "import matplotlib as plt\n",
    "import seaborn as sns\n",
    "\n",
    "xn = random.normal(loc=1, scale=0.5, size=(1000))\n",
    "xb = random.binomial(n=10, p=0.5, size=1000)\n",
    "xp = random.poisson(lam=2, size=1000)\n",
    "xu = random.uniform(0, 8, size=1000)\n",
    "xm = random.multinomial(n=1000, pvals=[1/10, 1/10, 1/5, 1/5, 1/5, 1/5])\n",
    "xe = random.exponential(scale=2, size=1000)\n",
    "xc = random.chisquare(df=5, size=1000)\n",
    "sns.kdeplot(xn)\n",
    "sns.kdeplot(xb)\n",
    "sns.kdeplot(xp)\n",
    "sns.kdeplot(xu)\n",
    "sns.kdeplot(xe)\n",
    "sns.kdeplot(xc)\n",
    "print(xm)\n"
   ]
  },
  {
   "cell_type": "code",
   "execution_count": null,
   "id": "330ba851",
   "metadata": {},
   "outputs": [],
   "source": [
    "import numpy as np\n",
    "from sklearn.model_selection import train_test_split\n",
    "from sklearn.metrics import r2_score\n",
    "x = np.loadtxt(\"abalone.csv\", delimiter=',')\n",
    "y=x[:,7]\n",
    "x=x[:,0:7]\n",
    "x=np.concatenate((np.ones((x.shape[0],1)),x),axis=1)\n",
    "print(x.shape,y.shape)"
   ]
  },
  {
   "cell_type": "code",
   "execution_count": null,
   "id": "a680a5de",
   "metadata": {},
   "outputs": [],
   "source": [
    "la=0.0001\n",
    "r2=[]\n",
    "r2t=[]\n",
    "for r in range(10):\n",
    "    X_train, X_test, y_train, y_test = train_test_split(x, y, test_size=0.1, random_state=r)\n",
    "    XX=X_train.T@X_train+la*np.eye(8)\n",
    "    XY=X_train.T@y_train\n",
    "    be=np.linalg.solve(XX,XY)\n",
    "    py=X_train@be\n",
    "    pyt=X_test@be\n",
    "    r2i=r2_score(y_train, py)\n",
    "    r2ti=r2_score(y_test, pyt)\n",
    "    print(r,r2i,r2ti)\n",
    "    r2.append(r2i)\n",
    "    r2t.append(r2ti)\n",
    "print(np.mean(r2),np.mean(r2t))"
   ]
  },
  {
   "cell_type": "code",
   "execution_count": null,
   "id": "08bf7a23",
   "metadata": {},
   "outputs": [],
   "source": []
  }
 ],
 "metadata": {
  "kernelspec": {
   "display_name": "Python 3 (ipykernel)",
   "language": "python",
   "name": "python3"
  },
  "language_info": {
   "codemirror_mode": {
    "name": "ipython",
    "version": 3
   },
   "file_extension": ".py",
   "mimetype": "text/x-python",
   "name": "python",
   "nbconvert_exporter": "python",
   "pygments_lexer": "ipython3",
   "version": "3.11.0"
  },
  "varInspector": {
   "cols": {
    "lenName": 16,
    "lenType": 16,
    "lenVar": 40
   },
   "kernels_config": {
    "python": {
     "delete_cmd_postfix": "",
     "delete_cmd_prefix": "del ",
     "library": "var_list.py",
     "varRefreshCmd": "print(var_dic_list())"
    },
    "r": {
     "delete_cmd_postfix": ") ",
     "delete_cmd_prefix": "rm(",
     "library": "var_list.r",
     "varRefreshCmd": "cat(var_dic_list()) "
    }
   },
   "types_to_exclude": [
    "module",
    "function",
    "builtin_function_or_method",
    "instance",
    "_Feature"
   ],
   "window_display": false
  }
 },
 "nbformat": 4,
 "nbformat_minor": 5
}
