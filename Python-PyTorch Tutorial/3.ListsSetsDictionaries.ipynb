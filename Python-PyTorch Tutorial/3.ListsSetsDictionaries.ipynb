{
 "cells": [
  {
   "cell_type": "markdown",
   "id": "433e9a06",
   "metadata": {},
   "source": [
    "#### Python Collections\n",
    "\n",
    "Four collection data types in Python:\n",
    "- List is a collection that is ordered and changeable. Allows duplicate members.\n",
    "- Tuple is a collection that is ordered and unchangeable. Allows duplicate members.\n",
    "- Set is a collection that is unordered, unchangeable, and unindexed. No duplicate members.\n",
    "- Dictionary is a collection that is ordered and changeable. No duplicate members."
   ]
  },
  {
   "cell_type": "markdown",
   "id": "39a26ea6",
   "metadata": {},
   "source": [
    "#### List:\n",
    "- sequence of anything \n",
    "- there is an order in the list\n",
    "- can be changed\n",
    "- allows duplicates\n",
    "- can be manipulated as arrays"
   ]
  },
  {
   "cell_type": "code",
   "execution_count": null,
   "id": "24ce1b76",
   "metadata": {},
   "outputs": [],
   "source": [
    "# list initialization\n",
    "l = [0, 1, 1, 'two', [3,4]]\n",
    "print(l)\n",
    "print(range(10))\n",
    "l=list(range(10))\n",
    "print(l)\n",
    "print(len(l))     # list length"
   ]
  },
  {
   "cell_type": "code",
   "execution_count": null,
   "id": "6a6383ca",
   "metadata": {},
   "outputs": [],
   "source": [
    "# list indexing\n",
    "l = [0, 1, 2, 3,4]\n",
    "print(l[1:4])    # list slice \n",
    "print(l[-2])     # negative indexing\n",
    "print(l[:4])     # from the beginning\n",
    "print(l[2:])     # to the end\n",
    "print(l[-4:-1])  # range of negative indexes"
   ]
  },
  {
   "cell_type": "code",
   "execution_count": null,
   "id": "9b1f565c",
   "metadata": {},
   "outputs": [],
   "source": [
    "# Check whether an element is in the list\n",
    "l = [0, 1, 1, 'two', [3,4]]\n",
    "print('two' in l)\n",
    "print(3 in l)"
   ]
  },
  {
   "cell_type": "code",
   "execution_count": null,
   "id": "4264d4a4",
   "metadata": {},
   "outputs": [],
   "source": [
    "# access list items\n",
    "l=list(range(3,10))\n",
    "print(l)\n",
    "l[2]=18           # set value 18 for element at position 2\n",
    "print(l)"
   ]
  },
  {
   "cell_type": "code",
   "execution_count": null,
   "id": "e86714bd",
   "metadata": {},
   "outputs": [],
   "source": [
    "# insert list items\n",
    "l=list(range(3,10))\n",
    "print(l)\n",
    "l.insert(2,11)    # insert element with value 11 at position 2\n",
    "print(l)\n",
    "l.append(15)      # add element at the end of the list\n",
    "print(l)\n",
    "newlist=['a','b','c']\n",
    "l.extend(newlist) # append another list at the end of l\n",
    "print(l)\n",
    "tupl=('d','e')    \n",
    "l.extend(tupl)    # can append even tuples, sets and dictionaries\n",
    "print(l)\n",
    "l=l+newlist       # can also extend with '+'\n",
    "print(l)"
   ]
  },
  {
   "cell_type": "code",
   "execution_count": null,
   "id": "300324cc",
   "metadata": {},
   "outputs": [],
   "source": [
    "# delete list items\n",
    "l=list(range(3,10))\n",
    "l.pop(2)          # remove element with index 2\n",
    "print(l)\n",
    "l.remove(6)     # remove the first item 6\n",
    "print(l)\n",
    "l.pop()           # remove last item\n",
    "print(l)\n",
    "l.reverse()       # reverse the list\n",
    "print(l)\n",
    "l.clear()         # remove all content and make it empty, also works for sets and dictionaries\n",
    "print(l)\n",
    "del l             # delete the object l\n",
    "print(l)"
   ]
  },
  {
   "cell_type": "code",
   "execution_count": null,
   "id": "534a7d89",
   "metadata": {},
   "outputs": [],
   "source": [
    "# iterating through a list\n",
    "l = [0, 1, 2, 'two', [3,4]]\n",
    "for il in l:\n",
    "    print(il)\n",
    "# list comprehension\n",
    "[print(il) for il in l]"
   ]
  },
  {
   "cell_type": "markdown",
   "id": "9b7d1e57",
   "metadata": {},
   "source": [
    "#### List Comprehension\n",
    "- Creates a new list from an existing list or other iterable (e.g. tuple, set, dictionary)\n",
    "- Syntax: newlist = [expression for item in iterable if condition == True]"
   ]
  },
  {
   "cell_type": "code",
   "execution_count": null,
   "id": "72c67c09",
   "metadata": {},
   "outputs": [],
   "source": [
    "# list comprehension example\n",
    "l = [0, 1, 2, 'two', [3,4]]\n",
    "#[print(il) for il in l]\n",
    "newl=[il for il in l if type(il)==int]\n",
    "print(newl)"
   ]
  },
  {
   "cell_type": "markdown",
   "id": "c872f72c",
   "metadata": {},
   "source": [
    "#### Sorting lists\n",
    "- sorts the list in place (does not return a new list)"
   ]
  },
  {
   "cell_type": "code",
   "execution_count": null,
   "id": "e1abb35a",
   "metadata": {},
   "outputs": [],
   "source": [
    "l = [10, 3,1, 2, 0]\n",
    "l.sort()\n",
    "print(l)\n",
    "l.sort(reverse = True)\n",
    "print(l)"
   ]
  },
  {
   "cell_type": "markdown",
   "id": "71faebc4",
   "metadata": {},
   "source": [
    "- can use a special sorting function"
   ]
  },
  {
   "cell_type": "code",
   "execution_count": null,
   "id": "9e55c1ef",
   "metadata": {},
   "outputs": [],
   "source": [
    "def sortfun(n):\n",
    "    return abs(n-7)\n",
    "\n",
    "l = list(range(10))\n",
    "l.sort(key = sortfun)\n",
    "print(l)"
   ]
  },
  {
   "cell_type": "code",
   "execution_count": null,
   "id": "41fb5084",
   "metadata": {},
   "outputs": [],
   "source": [
    "#### Copying lists\n",
    "- You cannot copy using a=b because a will be just a reference to b\n",
    "- You need to use .copy()"
   ]
  },
  {
   "cell_type": "code",
   "execution_count": null,
   "id": "e49b4b50",
   "metadata": {},
   "outputs": [],
   "source": [
    "# Copy example\n",
    "l=list(range(10))\n",
    "a=l                 # does not copy l \n",
    "b=l.copy()          # does copy l\n",
    "b[3]=15\n",
    "print(l)\n",
    "a[3]=18\n",
    "print(l)"
   ]
  },
  {
   "cell_type": "markdown",
   "id": "314c1d08",
   "metadata": {},
   "source": [
    "#### Other list methods:\n",
    "- count()\tReturns the number of elements with the specified value\n",
    "- index()\tReturns the index of the first element with the specified value"
   ]
  },
  {
   "cell_type": "code",
   "execution_count": null,
   "id": "fc1cce4a",
   "metadata": {},
   "outputs": [],
   "source": [
    "# Other list methods example\n",
    "l = [0, 1, 1, 'two', [3,4]]\n",
    "print(l.count(1))\n",
    "print(l.index(1))"
   ]
  },
  {
   "cell_type": "markdown",
   "id": "8f26c9e9",
   "metadata": {},
   "source": [
    "#### List operations time complexity\n",
    "- accessing with index l[i] is O(1)\n",
    "- finding an element is slow O(N)\n",
    "- inserting an element is fast O(1)\n",
    "- deleting an element is slow O(N)"
   ]
  },
  {
   "cell_type": "markdown",
   "id": "fa5c0042",
   "metadata": {},
   "source": [
    "#### Tuples\n",
    "- Ordered and unchangeable"
   ]
  },
  {
   "cell_type": "code",
   "execution_count": null,
   "id": "83635924",
   "metadata": {},
   "outputs": [],
   "source": [
    "# tuple examples\n",
    "t=(0,'x','y')\n",
    "print(t)\n",
    "print(t[1])\n",
    "t[1]=2        # cannot change the items"
   ]
  },
  {
   "cell_type": "code",
   "execution_count": null,
   "id": "6ed4581c",
   "metadata": {},
   "outputs": [],
   "source": [
    "# to change an item, make the tuple a list, than back to tuple\n",
    "print(t)\n",
    "t=list(t)\n",
    "t[1]=2\n",
    "t.append(3)\n",
    "t=tuple(t)\n",
    "print(t)"
   ]
  },
  {
   "cell_type": "code",
   "execution_count": null,
   "id": "3725d156",
   "metadata": {},
   "outputs": [],
   "source": [
    "# unpacking a tuple\n",
    "a,b,c,d=t\n",
    "print(a)\n",
    "print(b)\n",
    "print(c)\n",
    "a,b,*c=t  # use * to unpack the rest there\n",
    "print(c)\n",
    "a,*b,c=t\n",
    "print(c)"
   ]
  },
  {
   "cell_type": "code",
   "execution_count": null,
   "id": "9271c2fa",
   "metadata": {},
   "outputs": [],
   "source": [
    "# to make a tuple with one item, add a comma after it\n",
    "t = (\"a\",)\n",
    "print(type(t))\n",
    "\n",
    "#NOT a tuple\n",
    "t = (\"a\")\n",
    "print(type(t))"
   ]
  },
  {
   "cell_type": "code",
   "execution_count": null,
   "id": "5620ac88",
   "metadata": {},
   "outputs": [],
   "source": [
    "# joining tuples\n",
    "t=(0,1,2)\n",
    "u=('x','y')\n",
    "v=t+u       # joining tuples\n",
    "print(v)\n",
    "v=u*2       # u*2=u+u\n",
    "print(v)"
   ]
  },
  {
   "cell_type": "markdown",
   "id": "cb8ab68f",
   "metadata": {},
   "source": [
    "#### Sets\n",
    "- unordered - there is no order between the elements\n",
    "- duplicates are not allowed\n",
    "- unindexed - since there is no order, they cannot be indexed\n",
    "- unchangeable - elements cannot be changed, but they can be added or removed"
   ]
  },
  {
   "cell_type": "code",
   "execution_count": null,
   "id": "d99f1a8f",
   "metadata": {},
   "outputs": [],
   "source": [
    "# set examples\n",
    "s={1, 2, 2, 'three', True} # True = 1 for sets\n",
    "print(s)\n",
    "s[0]"
   ]
  },
  {
   "cell_type": "code",
   "execution_count": null,
   "id": "55aa3906",
   "metadata": {},
   "outputs": [],
   "source": [
    "# access set elements\n",
    "for si in s:\n",
    "    print(si)\n",
    "print('two' in s)"
   ]
  },
  {
   "cell_type": "code",
   "execution_count": null,
   "id": "2a332c3f",
   "metadata": {},
   "outputs": [],
   "source": [
    "# add to sets\n",
    "s.add(3)\n",
    "print(s)"
   ]
  },
  {
   "cell_type": "code",
   "execution_count": null,
   "id": "dc96fbce",
   "metadata": {},
   "outputs": [],
   "source": [
    "# add another set to s\n",
    "s1={'x','y'}\n",
    "s.update(s1)\n",
    "print(s)"
   ]
  },
  {
   "cell_type": "code",
   "execution_count": null,
   "id": "49206008",
   "metadata": {},
   "outputs": [],
   "source": [
    "# add any iterable (e.g. list)\n",
    "l=['a','b']\n",
    "s.update(l)\n",
    "print(s)"
   ]
  },
  {
   "cell_type": "code",
   "execution_count": null,
   "id": "a4449d16",
   "metadata": {},
   "outputs": [],
   "source": [
    "# remove elements from set\n",
    "s.remove('a') # remove will raise an error if element doe not exist\n",
    "print(s)\n",
    "s.discard('a')\n",
    "print(s)\n",
    "s.pop()  # removes a random item\n",
    "print(s)"
   ]
  },
  {
   "cell_type": "code",
   "execution_count": null,
   "id": "007c34a4",
   "metadata": {},
   "outputs": [],
   "source": [
    "# set operations\n",
    "s={0,1,2}\n",
    "t={1,2,3}\n",
    "u=s.union(t)\n",
    "print(u)\n",
    "i=s.intersection(t)\n",
    "print(i)\n",
    "d=s.difference(t)\n",
    "print(d)\n",
    "sd=s.symmetric_difference(t)\n",
    "print(sd)\n",
    "print(s.isdisjoint(t))\n",
    "print(i.issubset(t))\n",
    "print(u.issuperset(s))"
   ]
  },
  {
   "cell_type": "markdown",
   "id": "b3ddbb47",
   "metadata": {},
   "source": [
    "#### Set operations time complexity\n",
    "- finding or inserting an element is fast O(1)\n",
    "- deleting an element is fast O(1)"
   ]
  },
  {
   "cell_type": "markdown",
   "id": "5f4e3402",
   "metadata": {},
   "source": [
    "#### Dictionaries\n",
    "- ordered - there is an order between the elements (since Python 3.7)\n",
    "- duplicates are not allowed\n",
    "- changeable - elements can be changed\n",
    "- data is stored as key-value pairs"
   ]
  },
  {
   "cell_type": "code",
   "execution_count": null,
   "id": "c6e9184b",
   "metadata": {},
   "outputs": [],
   "source": [
    "# dictionary examples\n",
    "d={0:'a', 1:'x', 's':12 , 1:'y'}\n",
    "print(d)\n"
   ]
  },
  {
   "cell_type": "code",
   "execution_count": null,
   "id": "b0ae5b29",
   "metadata": {},
   "outputs": [],
   "source": [
    "# dictionary access\n",
    "d={0:'a', 1:'x', 's':12 , 1:'y'}\n",
    "print(d['s']) \n",
    "d['s']='t'\n",
    "print(d)\n",
    "print(d.keys())\n",
    "for k in d.keys():# keys() tells you what keys can be used\n",
    "    print(k,d[k])\n",
    "for k in d:            # k goes through the keys\n",
    "    print(k,d[k])\n",
    "print(d.values())\n",
    "d[10]=11          # can add a new item just by assignment to a key that does not exist\n",
    "print(d.values())\n",
    "print(d.items())  # return the dictionary items as tuples in a list\n",
    "if 10 in d.keys():# check if key exists\n",
    "    d[10]=d[10]+1"
   ]
  },
  {
   "cell_type": "code",
   "execution_count": null,
   "id": "1fe85cb0",
   "metadata": {},
   "outputs": [],
   "source": [
    "# update adds entries from another dictionary and updates existing ones\n",
    "print(d)\n",
    "d1={10:10, 15:20}\n",
    "d.update(d1)\n",
    "print(d)"
   ]
  },
  {
   "cell_type": "code",
   "execution_count": null,
   "id": "aa648bf7",
   "metadata": {},
   "outputs": [],
   "source": [
    "# removing items\n",
    "print(d)\n",
    "d.pop(15)  # removes item with given key\n",
    "print(d)\n",
    "d.popitem() # removes last added item\n",
    "print(d)\n",
    "del d[1]   # also removes item with given key\n",
    "print(d)"
   ]
  },
  {
   "cell_type": "code",
   "execution_count": null,
   "id": "5015b598",
   "metadata": {},
   "outputs": [],
   "source": [
    "# Other methods\n",
    "x = ('a', 'b', 'c')\n",
    "y = 0\n",
    "\n",
    "d = dict.fromkeys(x,y)\n",
    "print(d)\n",
    "v=d.setdefault('c',1)\n",
    "print(v)\n",
    "print(d)"
   ]
  },
  {
   "cell_type": "markdown",
   "id": "d0e884e9",
   "metadata": {},
   "source": [
    "#### Dictionary operations time complexity\n",
    "- finding or inserting a key is fast O(1)\n",
    "- deleting a key is fast O(1)"
   ]
  },
  {
   "cell_type": "markdown",
   "id": "a0f78918",
   "metadata": {},
   "source": [
    "#### Questions\n",
    "- What data structure should we use to store usernames and passwords?\n",
    "- What data structure should we use to store a million samples x_i in R^10?"
   ]
  },
  {
   "cell_type": "code",
   "execution_count": null,
   "id": "af5b51b6",
   "metadata": {},
   "outputs": [],
   "source": []
  }
 ],
 "metadata": {
  "kernelspec": {
   "display_name": "Python 3 (ipykernel)",
   "language": "python",
   "name": "python3"
  },
  "language_info": {
   "codemirror_mode": {
    "name": "ipython",
    "version": 3
   },
   "file_extension": ".py",
   "mimetype": "text/x-python",
   "name": "python",
   "nbconvert_exporter": "python",
   "pygments_lexer": "ipython3",
   "version": "3.9.13"
  }
 },
 "nbformat": 4,
 "nbformat_minor": 5
}
