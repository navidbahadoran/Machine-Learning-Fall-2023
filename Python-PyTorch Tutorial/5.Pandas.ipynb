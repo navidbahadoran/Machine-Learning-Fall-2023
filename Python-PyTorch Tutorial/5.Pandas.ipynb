{
 "cells": [
  {
   "cell_type": "markdown",
   "id": "39a26ea6",
   "metadata": {},
   "source": [
    "#### Pandas:\n",
    "- package for working with data sets \n",
    "- can be used to analyze, clean, explore, and manipulate data"
   ]
  },
  {
   "cell_type": "code",
   "execution_count": null,
   "id": "24ce1b76",
   "metadata": {},
   "outputs": [],
   "source": [
    "# pandas example\n",
    "import pandas as pd\n",
    "print(pd.__version__)\n",
    "\n",
    "data = {\n",
    "  'cars': [\"BMW\", \"Volvo\", \"Ford\"],\n",
    "  'value': [45, 55, 24]\n",
    "}\n",
    "\n",
    "d = pd.DataFrame(data)\n",
    "\n",
    "print(d)\n"
   ]
  },
  {
   "cell_type": "markdown",
   "id": "cef21a40",
   "metadata": {},
   "source": [
    "#### Pandas Series\n",
    "- Like a column in a table"
   ]
  },
  {
   "cell_type": "code",
   "execution_count": null,
   "id": "13164e44",
   "metadata": {},
   "outputs": [],
   "source": [
    "# Series example\n",
    "a = [1, 3, 8]\n",
    "s = pd.Series(a)\n",
    "print(s)\n",
    "print(s[0])"
   ]
  },
  {
   "cell_type": "code",
   "execution_count": null,
   "id": "1030456a",
   "metadata": {},
   "outputs": [],
   "source": [
    "s = pd.Series(a, index = [\"x\", \"y\", \"z\"]) # give labels to rows\n",
    "print(s)\n",
    "print(s['y'])  # access using label names"
   ]
  },
  {
   "cell_type": "markdown",
   "id": "062ded4c",
   "metadata": {},
   "source": [
    "#### Pandas DataFrames\n",
    "- Like a 2D array with rows and columns\n",
    "- Rows and columns have names"
   ]
  },
  {
   "cell_type": "code",
   "execution_count": null,
   "id": "f274ecaf",
   "metadata": {},
   "outputs": [],
   "source": [
    "data = {\n",
    "  'cars': [\"BMW\", \"Volvo\", \"Ford\"],\n",
    "  'value': [45, 55, 24]\n",
    "}\n",
    "\n",
    "df = pd.DataFrame(data)\n",
    "\n",
    "print(df)\n",
    "print(df.loc[0])  # return row 0\n",
    "print(df.loc[[0, 1]]) # return rows 0 and 1"
   ]
  },
  {
   "cell_type": "code",
   "execution_count": null,
   "id": "a4927b78",
   "metadata": {},
   "outputs": [],
   "source": [
    "# access\n",
    "print(df.keys()) # print the column labels\n",
    "print(list(df.index)) # print the row labels\n",
    "\n",
    "for i in df.index: # access the rows\n",
    "    for j in df.keys(): # access the columns\n",
    "        print(i,df.loc[i,j]) # value at [i,j]\n",
    "for j, i in df.items():\n",
    "    print(j)\n",
    "    print(i)"
   ]
  },
  {
   "cell_type": "code",
   "execution_count": null,
   "id": "165bf883",
   "metadata": {},
   "outputs": [],
   "source": [
    "# inserting a column\n",
    "df.insert(1, \"age\", [10, 20, 30])\n",
    "print(df)\n",
    "#inserting a row\n",
    "new_row = [\"Toyota\", 15, 35]\n",
    "df.loc[len(df)] = new_row\n",
    "print(df)"
   ]
  },
  {
   "cell_type": "code",
   "execution_count": null,
   "id": "6890b72e",
   "metadata": {},
   "outputs": [],
   "source": [
    "# Removing rows\n",
    "df.drop(1, inplace = True) # delete row 1\n",
    "# (inplace = True) makes sure that the method does not return a new DataFrame\n",
    "print(df)\n",
    "# Removing columns\n",
    "df.drop('age',axis=1, inplace = True) # delete 'Age' column\n",
    "print(df)"
   ]
  },
  {
   "cell_type": "code",
   "execution_count": null,
   "id": "83b57f74",
   "metadata": {},
   "outputs": [],
   "source": [
    "# Loading csv\n",
    "df = pd.read_csv('gala.csv')\n",
    "\n",
    "#print(df) \n",
    "print(df.to_string()) # prints the entire thing"
   ]
  },
  {
   "cell_type": "markdown",
   "id": "446543a9",
   "metadata": {},
   "source": [
    "#### max_rows\n",
    "- Max number of rows to print the enire thing\n",
    "- For more than that, it will only print first and last 5 rows"
   ]
  },
  {
   "cell_type": "code",
   "execution_count": null,
   "id": "2eb7a965",
   "metadata": {},
   "outputs": [],
   "source": [
    "print(pd.options.display.max_rows)\n",
    "pd.options.display.max_rows = 1000 # set to another value\n",
    "print(pd.options.display.max_rows)"
   ]
  },
  {
   "cell_type": "markdown",
   "id": "7884cdb4",
   "metadata": {},
   "source": [
    "#### Loading json\n",
    "- .json files have the same format as a Python dictionary\n",
    "- can be used to store complex data"
   ]
  },
  {
   "cell_type": "code",
   "execution_count": null,
   "id": "343c7225",
   "metadata": {},
   "outputs": [],
   "source": [
    "# Loading json\n",
    "df = pd.read_json('gala.json')\n",
    "#print(df.to_string()) \n",
    "print(df.head())  # first 5 rows\n",
    "#print(df.tail()) # last five rows\n",
    "print(df.info()) "
   ]
  },
  {
   "cell_type": "code",
   "execution_count": null,
   "id": "1685a429",
   "metadata": {},
   "outputs": [],
   "source": [
    "# write the data frame to .json file if necessary\n",
    "import json\n",
    "json_object = json.dumps(df.to_dict(), indent=4)\n",
    " # Writing to file\n",
    "with open(\"gala.json\", \"w\") as outfile:\n",
    "    outfile.write(json_object)"
   ]
  },
  {
   "cell_type": "code",
   "execution_count": null,
   "id": "ec942f4b",
   "metadata": {},
   "outputs": [],
   "source": [
    "df['Species'] = pd.to_datetime(df['Species'])\n",
    "\n",
    "print(df.to_string())"
   ]
  },
  {
   "cell_type": "code",
   "execution_count": null,
   "id": "bc3c9191",
   "metadata": {},
   "outputs": [],
   "source": [
    "import matplotlib.pyplot as plt\n",
    "df.plot()\n",
    "plt.show()"
   ]
  },
  {
   "cell_type": "code",
   "execution_count": null,
   "id": "0d4214a3",
   "metadata": {},
   "outputs": [],
   "source": [
    "df.plot(kind = 'scatter', x = 'Elevation', y = 'Endemics')\n",
    "plt.show()"
   ]
  },
  {
   "cell_type": "markdown",
   "id": "2f6f3c20",
   "metadata": {},
   "source": [
    "#### Other methods\n",
    "- values - return the DataFrame as a NumPy array"
   ]
  },
  {
   "cell_type": "code",
   "execution_count": null,
   "id": "9dc9c2d9",
   "metadata": {},
   "outputs": [],
   "source": [
    "print(df.values)"
   ]
  },
  {
   "cell_type": "code",
   "execution_count": null,
   "id": "796a45ef",
   "metadata": {},
   "outputs": [],
   "source": []
  }
 ],
 "metadata": {
  "kernelspec": {
   "display_name": "Python 3 (ipykernel)",
   "language": "python",
   "name": "python3"
  },
  "language_info": {
   "codemirror_mode": {
    "name": "ipython",
    "version": 3
   },
   "file_extension": ".py",
   "mimetype": "text/x-python",
   "name": "python",
   "nbconvert_exporter": "python",
   "pygments_lexer": "ipython3",
   "version": "3.11.0"
  },
  "varInspector": {
   "cols": {
    "lenName": 16,
    "lenType": 16,
    "lenVar": 40
   },
   "kernels_config": {
    "python": {
     "delete_cmd_postfix": "",
     "delete_cmd_prefix": "del ",
     "library": "var_list.py",
     "varRefreshCmd": "print(var_dic_list())"
    },
    "r": {
     "delete_cmd_postfix": ") ",
     "delete_cmd_prefix": "rm(",
     "library": "var_list.r",
     "varRefreshCmd": "cat(var_dic_list()) "
    }
   },
   "types_to_exclude": [
    "module",
    "function",
    "builtin_function_or_method",
    "instance",
    "_Feature"
   ],
   "window_display": false
  }
 },
 "nbformat": 4,
 "nbformat_minor": 5
}
