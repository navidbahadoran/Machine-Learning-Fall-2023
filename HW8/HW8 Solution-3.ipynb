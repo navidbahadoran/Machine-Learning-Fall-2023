{
 "cells": [
  {
   "cell_type": "code",
   "execution_count": 1,
   "metadata": {},
   "outputs": [
    {
     "name": "stdout",
     "output_type": "stream",
     "text": [
      "cuda:0\n"
     ]
    }
   ],
   "source": [
    "import numpy as np\n",
    "import matplotlib.pyplot as plt\n",
    "import torch\n",
    "device = torch.device(\"cuda:0\" if torch.cuda.is_available() else \"cpu\")\n",
    "# Assuming that we are on a CUDA machine, this should print a CUDA device:\n",
    "print(device)"
   ]
  },
  {
   "cell_type": "code",
   "execution_count": 22,
   "metadata": {},
   "outputs": [
    {
     "name": "stdout",
     "output_type": "stream",
     "text": [
      "tensor([0, 1, 4, 4, 0, 2, 5, 2, 1, 2, 5, 5, 0, 2, 2, 1, 2, 3, 2, 0, 1, 1, 3, 1,\n",
      "        4, 5, 2, 1, 0, 4, 4, 1, 1, 4, 2, 3, 0, 5, 5, 0, 4, 4, 1, 5, 1, 0, 0, 2,\n",
      "        5, 0, 3, 2, 0, 1, 1, 5, 2, 2, 0, 1, 0, 5, 3, 2, 1, 2, 0, 0, 4, 0, 1, 3,\n",
      "        0, 2, 1, 5, 0, 5, 5, 0, 5, 5, 4, 3, 5, 4, 1, 2, 2, 0, 4, 5, 1, 5, 2, 5,\n",
      "        5, 2, 2, 2, 5, 5, 5, 5, 4, 0, 1, 5, 5, 5, 1, 5, 5, 5, 2, 4, 1, 5, 2, 5,\n",
      "        1, 5, 5, 0, 2, 0, 0, 3, 4, 5, 1, 2, 0, 2, 5, 1, 5, 5, 2, 4, 3, 4, 5, 2,\n",
      "        2, 1, 5, 1, 5, 2, 2, 1, 4, 2, 5, 4, 2, 4, 1, 0, 2, 5, 1, 4, 4, 0, 5, 5,\n",
      "        5, 5, 0, 4, 1, 3, 5, 0, 1, 3, 2, 0, 2, 2, 0, 1, 1, 5, 5, 5, 4, 3, 2, 2,\n",
      "        2, 5, 2, 1, 1, 2, 0, 3, 4, 4, 1, 4, 3, 2, 0, 5, 0, 1, 5, 3, 1, 5, 5, 2,\n",
      "        0, 1, 5, 4, 4, 5, 5, 5, 5, 5, 5, 5, 2, 5, 5, 5, 5, 5, 5, 5, 5, 5, 5, 5,\n",
      "        5, 3, 3, 5, 5, 1, 1, 5, 5, 2, 5, 5, 1, 4, 5, 2, 5, 3, 3, 5, 5, 5, 5, 1,\n",
      "        3, 5, 1, 5, 5, 5, 5, 5, 5, 3, 2])\n"
     ]
    }
   ],
   "source": [
    "x = np.loadtxt(\"c:/work/teaching/machine learning/data/hmm_pb1.csv\", delimiter=',')\n",
    "x = torch.tensor(x).long()-1\n",
    "print(x)"
   ]
  },
  {
   "cell_type": "code",
   "execution_count": 48,
   "metadata": {},
   "outputs": [
    {
     "name": "stdout",
     "output_type": "stream",
     "text": [
      "torch.Size([10000])\n"
     ]
    }
   ],
   "source": [
    "x = np.loadtxt(\"c:/work/teaching/machine learning/data/hmm_pb2.csv\", delimiter=',')\n",
    "x = torch.tensor(x).long()-1\n",
    "print(x.shape)"
   ]
  },
  {
   "cell_type": "code",
   "execution_count": 20,
   "metadata": {},
   "outputs": [
    {
     "name": "stdout",
     "output_type": "stream",
     "text": [
      "tensor([0.5000, 0.5000])\n",
      "tensor([[0.9500, 0.0500],\n",
      "        [0.0500, 0.9500]])\n",
      "tensor([[0.1667, 0.1667, 0.1667, 0.1667, 0.1667, 0.1667],\n",
      "        [0.1000, 0.1000, 0.1000, 0.1000, 0.1000, 0.5000]])\n"
     ]
    }
   ],
   "source": [
    "pi=torch.tensor([0.5,0.5])\n",
    "a=torch.tensor([[0.95,0.05],[0.05,0.95]])\n",
    "b=torch.tensor([[1/6,1/6,1/6,1/6,1/6,1/6],[.1,.1,.1,.1,.1,0.5]])\n",
    "print(pi)\n",
    "print(a)\n",
    "print(b)"
   ]
  },
  {
   "cell_type": "code",
   "execution_count": 27,
   "metadata": {},
   "outputs": [
    {
     "data": {
      "text/plain": [
       "tensor([0, 0, 0, 0, 0, 0, 0, 0, 0, 0, 0, 0, 0, 0, 0, 0, 0, 0, 0, 0, 0, 0, 0, 0,\n",
       "        0, 0, 0, 0, 0, 0, 0, 0, 0, 0, 0, 0, 0, 0, 0, 0, 0, 0, 0, 0, 0, 0, 0, 0,\n",
       "        0, 0, 0, 0, 0, 0, 0, 0, 0, 0, 0, 0, 0, 0, 0, 0, 0, 0, 0, 0, 0, 0, 0, 0,\n",
       "        0, 0, 0, 1, 1, 1, 1, 1, 1, 1, 1, 1, 1, 1, 1, 1, 1, 1, 1, 1, 1, 1, 1, 1,\n",
       "        1, 1, 1, 1, 1, 1, 1, 1, 1, 1, 1, 1, 1, 1, 1, 1, 1, 1, 1, 1, 1, 1, 1, 1,\n",
       "        1, 1, 1, 0, 0, 0, 0, 0, 0, 0, 0, 0, 0, 0, 0, 0, 0, 0, 0, 0, 0, 0, 0, 0,\n",
       "        0, 0, 0, 0, 0, 0, 0, 0, 0, 0, 0, 0, 0, 0, 0, 0, 0, 0, 0, 0, 0, 0, 0, 0,\n",
       "        0, 0, 0, 0, 0, 0, 0, 0, 0, 0, 0, 0, 0, 0, 0, 0, 0, 0, 0, 0, 0, 0, 0, 0,\n",
       "        0, 0, 0, 0, 0, 0, 0, 0, 0, 0, 0, 0, 0, 0, 0, 1, 1, 1, 1, 1, 1, 1, 1, 1,\n",
       "        1, 1, 1, 1, 1, 1, 1, 1, 1, 1, 1, 1, 1, 1, 1, 1, 1, 1, 1, 1, 1, 1, 1, 1,\n",
       "        1, 1, 1, 1, 1, 1, 1, 1, 1, 1, 1, 1, 1, 1, 1, 1, 1, 1, 1, 1, 1, 1, 1, 1,\n",
       "        1, 1, 1, 1, 1, 1, 1, 1, 1, 1, 1])"
      ]
     },
     "execution_count": 27,
     "metadata": {},
     "output_type": "execute_result"
    }
   ],
   "source": [
    "def Viterbi(x,a,b,pi):\n",
    "    T = x.shape[0]\n",
    "    C=torch.zeros((2,T))\n",
    "    Ptr=torch.zeros((2,T))\n",
    "    la=torch.log(a)\n",
    "    lb=torch.log(b)\n",
    "    C[:,0]=torch.log(b[:,x[0]]*pi)\n",
    "    for t in range(1,T):\n",
    "        li=la+C[:,t-1].view(-1,1)\n",
    "        mli,amli=torch.max(li,dim=0)\n",
    "        C[:,t]=lb[:,x[t]]+mli\n",
    "        Ptr[:,t]=amli\n",
    "    y=torch.zeros(T).long()\n",
    "    y[T-1]=torch.argmax(C[:,T-1])\n",
    "    for t in range(T-1,0,-1):\n",
    "        y[t-1]=Ptr[y[t],t]\n",
    "    return y\n",
    "Viterbi(x,a,b,pi)"
   ]
  },
  {
   "cell_type": "code",
   "execution_count": 44,
   "metadata": {},
   "outputs": [
    {
     "name": "stdout",
     "output_type": "stream",
     "text": [
      "tensor(4.2971, device='cuda:0') tensor(0.9841, device='cuda:0')\n"
     ]
    }
   ],
   "source": [
    "def fwd(x,a,b,pi):\n",
    "    T = x.shape[0]\n",
    "    al=torch.zeros((2,T),device=x.device)\n",
    "    al[:,0]=b[:,x[0]]*pi\n",
    "    for t in range(1,T):\n",
    "        li=a*al[:,t-1].view(-1,1)\n",
    "        sli=b[:,x[t]]*torch.sum(li,dim=0)\n",
    "        al[:,t]=sli/torch.sum(sli)\n",
    "    return al\n",
    "def bk(x,a,b,pi):\n",
    "    T = x.shape[0]\n",
    "    be=torch.ones((2,T),device=x.device)\n",
    "    for t in range(T-1,0,-1):\n",
    "        li=a*be[:,t].view(1,-1)*b[:,x[t]].view(1,-1)\n",
    "        sli=torch.sum(li,dim=1)\n",
    "        be[:,t-1]=sli/torch.sum(sli)\n",
    "    return be\n",
    "\n",
    "al=fwd(x,a,b,pi)\n",
    "be=bk(x,a,b,pi)\n",
    "print(al[0,135]/al[1,135], be[0,135]/be[1,135])\n",
    "\n"
   ]
  },
  {
   "cell_type": "code",
   "execution_count": 52,
   "metadata": {},
   "outputs": [
    {
     "name": "stdout",
     "output_type": "stream",
     "text": [
      "tensor([[0.6181, 0.3819],\n",
      "        [0.7757, 0.2243]])\n",
      "tensor([[0.3040, 0.1855, 0.1330, 0.0750, 0.1265, 0.1760],\n",
      "        [0.0834, 0.1211, 0.1527, 0.0861, 0.2859, 0.2708]])\n"
     ]
    }
   ],
   "source": [
    "pi=torch.tensor([0.5,0.5])\n",
    "a=torch.rand(2,2)\n",
    "b=torch.rand(2,6)\n",
    "a=a/torch.sum(a,1).view(-1,1)\n",
    "b=b/torch.sum(b,1).view(-1,1)\n",
    "print(a)\n",
    "print(b)"
   ]
  },
  {
   "cell_type": "code",
   "execution_count": 46,
   "metadata": {},
   "outputs": [],
   "source": [
    "x=x.to(device)\n",
    "a=a.to(device)\n",
    "b=b.to(device)\n",
    "pi=pi.to(device)"
   ]
  },
  {
   "cell_type": "code",
   "execution_count": 53,
   "metadata": {},
   "outputs": [
    {
     "name": "stdout",
     "output_type": "stream",
     "text": [
      "tensor([[0.6312, 0.3688],\n",
      "        [0.7839, 0.2161]])\n",
      "tensor([[0.2543, 0.2236, 0.1760, 0.1820, 0.0866, 0.0775],\n",
      "        [0.0743, 0.1561, 0.2153, 0.2238, 0.2039, 0.1267]])\n",
      "tensor([[0.6318, 0.3682],\n",
      "        [0.7830, 0.2170]])\n",
      "tensor([[0.2542, 0.2233, 0.1759, 0.1816, 0.0874, 0.0775],\n",
      "        [0.0744, 0.1567, 0.2155, 0.2247, 0.2020, 0.1267]])\n",
      "tensor([[0.6324, 0.3676],\n",
      "        [0.7821, 0.2179]])\n",
      "tensor([[0.2542, 0.2230, 0.1759, 0.1812, 0.0883, 0.0774],\n",
      "        [0.0744, 0.1573, 0.2157, 0.2256, 0.2003, 0.1267]])\n",
      "tensor([[0.6329, 0.3671],\n",
      "        [0.7814, 0.2186]])\n",
      "tensor([[0.2541, 0.2227, 0.1758, 0.1808, 0.0891, 0.0774],\n",
      "        [0.0745, 0.1579, 0.2159, 0.2265, 0.1985, 0.1268]])\n",
      "tensor([[0.6334, 0.3666],\n",
      "        [0.7806, 0.2194]])\n",
      "tensor([[0.2541, 0.2225, 0.1757, 0.1804, 0.0899, 0.0774],\n",
      "        [0.0745, 0.1584, 0.2161, 0.2273, 0.1969, 0.1268]])\n",
      "tensor([[0.6338, 0.3662],\n",
      "        [0.7799, 0.2201]])\n",
      "tensor([[0.2541, 0.2222, 0.1756, 0.1800, 0.0907, 0.0774],\n",
      "        [0.0745, 0.1590, 0.2163, 0.2281, 0.1952, 0.1269]])\n",
      "tensor([[0.6343, 0.3657],\n",
      "        [0.7793, 0.2207]])\n",
      "tensor([[0.2541, 0.2220, 0.1755, 0.1797, 0.0914, 0.0773],\n",
      "        [0.0745, 0.1595, 0.2164, 0.2289, 0.1937, 0.1270]])\n",
      "tensor([[0.6347, 0.3653],\n",
      "        [0.7787, 0.2213]])\n",
      "tensor([[0.2540, 0.2217, 0.1755, 0.1793, 0.0922, 0.0773],\n",
      "        [0.0745, 0.1600, 0.2166, 0.2296, 0.1921, 0.1272]])\n",
      "tensor([[0.6351, 0.3649],\n",
      "        [0.7781, 0.2219]])\n",
      "tensor([[0.2540, 0.2215, 0.1754, 0.1790, 0.0929, 0.0772],\n",
      "        [0.0745, 0.1604, 0.2168, 0.2304, 0.1906, 0.1273]])\n",
      "tensor([[0.6354, 0.3646],\n",
      "        [0.7776, 0.2224]])\n",
      "tensor([[0.2540, 0.2213, 0.1753, 0.1787, 0.0936, 0.0772],\n",
      "        [0.0745, 0.1609, 0.2169, 0.2311, 0.1892, 0.1274]])\n",
      "tensor([[0.6357, 0.3643],\n",
      "        [0.7771, 0.2229]])\n",
      "tensor([[0.2540, 0.2211, 0.1753, 0.1783, 0.0942, 0.0771],\n",
      "        [0.0745, 0.1614, 0.2171, 0.2318, 0.1878, 0.1275]])\n",
      "tensor([[0.6360, 0.3640],\n",
      "        [0.7766, 0.2234]])\n",
      "tensor([[0.2540, 0.2208, 0.1752, 0.1780, 0.0949, 0.0770],\n",
      "        [0.0745, 0.1618, 0.2172, 0.2325, 0.1864, 0.1277]])\n",
      "tensor([[0.6363, 0.3637],\n",
      "        [0.7761, 0.2239]])\n",
      "tensor([[0.2540, 0.2206, 0.1751, 0.1777, 0.0955, 0.0770],\n",
      "        [0.0744, 0.1622, 0.2173, 0.2332, 0.1851, 0.1278]])\n",
      "tensor([[0.6366, 0.3634],\n",
      "        [0.7757, 0.2243]])\n",
      "tensor([[0.2540, 0.2204, 0.1751, 0.1774, 0.0961, 0.0769],\n",
      "        [0.0744, 0.1626, 0.2174, 0.2338, 0.1838, 0.1279]])\n",
      "tensor([[0.6368, 0.3632],\n",
      "        [0.7754, 0.2246]])\n",
      "tensor([[0.2540, 0.2203, 0.1750, 0.1771, 0.0967, 0.0769],\n",
      "        [0.0743, 0.1630, 0.2176, 0.2345, 0.1825, 0.1281]])\n",
      "tensor([[0.6371, 0.3629],\n",
      "        [0.7750, 0.2250]])\n",
      "tensor([[0.2540, 0.2201, 0.1750, 0.1768, 0.0973, 0.0768],\n",
      "        [0.0743, 0.1634, 0.2177, 0.2351, 0.1813, 0.1282]])\n",
      "tensor([[0.6373, 0.3627],\n",
      "        [0.7747, 0.2253]])\n",
      "tensor([[0.2541, 0.2199, 0.1749, 0.1765, 0.0979, 0.0767],\n",
      "        [0.0742, 0.1638, 0.2178, 0.2357, 0.1800, 0.1284]])\n",
      "tensor([[0.6375, 0.3625],\n",
      "        [0.7744, 0.2256]])\n",
      "tensor([[0.2541, 0.2197, 0.1749, 0.1762, 0.0985, 0.0766],\n",
      "        [0.0742, 0.1642, 0.2179, 0.2363, 0.1789, 0.1285]])\n",
      "tensor([[0.6376, 0.3624],\n",
      "        [0.7741, 0.2259]])\n",
      "tensor([[0.2541, 0.2195, 0.1748, 0.1760, 0.0990, 0.0766],\n",
      "        [0.0741, 0.1646, 0.2180, 0.2369, 0.1777, 0.1287]])\n",
      "tensor([[0.6378, 0.3622],\n",
      "        [0.7738, 0.2262]])\n",
      "tensor([[0.2541, 0.2194, 0.1748, 0.1757, 0.0995, 0.0765],\n",
      "        [0.0740, 0.1649, 0.2181, 0.2375, 0.1766, 0.1289]])\n",
      "tensor([[0.6380, 0.3620],\n",
      "        [0.7736, 0.2264]])\n",
      "tensor([[0.2542, 0.2192, 0.1748, 0.1754, 0.1001, 0.0764],\n",
      "        [0.0740, 0.1653, 0.2182, 0.2381, 0.1755, 0.1290]])\n",
      "tensor([[0.6381, 0.3619],\n",
      "        [0.7734, 0.2266]])\n",
      "tensor([[0.2542, 0.2190, 0.1747, 0.1751, 0.1006, 0.0764],\n",
      "        [0.0739, 0.1656, 0.2183, 0.2387, 0.1744, 0.1292]])\n",
      "tensor([[0.6382, 0.3618],\n",
      "        [0.7732, 0.2268]])\n",
      "tensor([[0.2542, 0.2189, 0.1747, 0.1749, 0.1011, 0.0763],\n",
      "        [0.0738, 0.1660, 0.2183, 0.2392, 0.1733, 0.1293]])\n",
      "tensor([[0.6383, 0.3617],\n",
      "        [0.7730, 0.2270]])\n",
      "tensor([[0.2543, 0.2187, 0.1746, 0.1746, 0.1015, 0.0762],\n",
      "        [0.0737, 0.1663, 0.2184, 0.2398, 0.1723, 0.1295]])\n",
      "tensor([[0.6384, 0.3616],\n",
      "        [0.7729, 0.2271]])\n",
      "tensor([[0.2543, 0.2186, 0.1746, 0.1744, 0.1020, 0.0761],\n",
      "        [0.0736, 0.1666, 0.2185, 0.2403, 0.1713, 0.1297]])\n",
      "tensor([[0.6385, 0.3615],\n",
      "        [0.7727, 0.2273]])\n",
      "tensor([[0.2543, 0.2184, 0.1746, 0.1741, 0.1025, 0.0761],\n",
      "        [0.0735, 0.1669, 0.2186, 0.2408, 0.1703, 0.1298]])\n",
      "tensor([[0.6386, 0.3614],\n",
      "        [0.7726, 0.2274]])\n",
      "tensor([[0.2544, 0.2183, 0.1746, 0.1739, 0.1029, 0.0760],\n",
      "        [0.0734, 0.1673, 0.2186, 0.2414, 0.1693, 0.1300]])\n",
      "tensor([[0.6386, 0.3614],\n",
      "        [0.7725, 0.2275]])\n",
      "tensor([[0.2544, 0.2181, 0.1745, 0.1737, 0.1034, 0.0759],\n",
      "        [0.0734, 0.1676, 0.2187, 0.2419, 0.1684, 0.1302]])\n",
      "tensor([[0.6387, 0.3613],\n",
      "        [0.7724, 0.2276]])\n",
      "tensor([[0.2545, 0.2180, 0.1745, 0.1734, 0.1038, 0.0758],\n",
      "        [0.0733, 0.1679, 0.2187, 0.2424, 0.1674, 0.1304]])\n",
      "tensor([[0.6387, 0.3613],\n",
      "        [0.7723, 0.2277]])\n",
      "tensor([[0.2545, 0.2178, 0.1745, 0.1732, 0.1043, 0.0757],\n",
      "        [0.0731, 0.1682, 0.2188, 0.2429, 0.1665, 0.1305]])\n",
      "tensor([[0.6388, 0.3612],\n",
      "        [0.7722, 0.2278]])\n",
      "tensor([[0.2546, 0.2177, 0.1744, 0.1730, 0.1047, 0.0757],\n",
      "        [0.0730, 0.1685, 0.2189, 0.2434, 0.1656, 0.1307]])\n",
      "tensor([[0.6388, 0.3612],\n",
      "        [0.7722, 0.2278]])\n",
      "tensor([[0.2546, 0.2176, 0.1744, 0.1727, 0.1051, 0.0756],\n",
      "        [0.0729, 0.1687, 0.2189, 0.2438, 0.1647, 0.1309]])\n",
      "tensor([[0.6388, 0.3612],\n",
      "        [0.7722, 0.2278]])\n",
      "tensor([[0.2547, 0.2174, 0.1744, 0.1725, 0.1055, 0.0755],\n",
      "        [0.0728, 0.1690, 0.2189, 0.2443, 0.1638, 0.1311]])\n",
      "tensor([[0.6388, 0.3612],\n",
      "        [0.7721, 0.2279]])\n",
      "tensor([[0.2547, 0.2173, 0.1744, 0.1723, 0.1059, 0.0754],\n",
      "        [0.0727, 0.1693, 0.2190, 0.2448, 0.1630, 0.1312]])\n",
      "tensor([[0.6388, 0.3612],\n",
      "        [0.7721, 0.2279]])\n",
      "tensor([[0.2548, 0.2172, 0.1744, 0.1721, 0.1063, 0.0753],\n",
      "        [0.0726, 0.1696, 0.2190, 0.2452, 0.1622, 0.1314]])\n",
      "tensor([[0.6388, 0.3612],\n",
      "        [0.7721, 0.2279]])\n",
      "tensor([[0.2548, 0.2171, 0.1743, 0.1719, 0.1067, 0.0752],\n",
      "        [0.0725, 0.1698, 0.2191, 0.2457, 0.1613, 0.1316]])\n",
      "tensor([[0.6387, 0.3613],\n",
      "        [0.7721, 0.2279]])\n",
      "tensor([[0.2549, 0.2169, 0.1743, 0.1717, 0.1070, 0.0751],\n",
      "        [0.0723, 0.1701, 0.2191, 0.2461, 0.1605, 0.1318]])\n",
      "tensor([[0.6387, 0.3613],\n",
      "        [0.7721, 0.2279]])\n",
      "tensor([[0.2550, 0.2168, 0.1743, 0.1714, 0.1074, 0.0751],\n",
      "        [0.0722, 0.1704, 0.2191, 0.2466, 0.1597, 0.1320]])\n",
      "tensor([[0.6387, 0.3613],\n",
      "        [0.7722, 0.2278]])\n",
      "tensor([[0.2550, 0.2167, 0.1743, 0.1712, 0.1078, 0.0750],\n",
      "        [0.0721, 0.1706, 0.2192, 0.2470, 0.1590, 0.1322]])\n",
      "tensor([[0.6386, 0.3614],\n",
      "        [0.7722, 0.2278]])\n",
      "tensor([[0.2551, 0.2166, 0.1743, 0.1710, 0.1081, 0.0749],\n",
      "        [0.0720, 0.1709, 0.2192, 0.2474, 0.1582, 0.1323]])\n",
      "tensor([[0.6386, 0.3614],\n",
      "        [0.7723, 0.2277]])\n",
      "tensor([[0.2552, 0.2165, 0.1743, 0.1708, 0.1085, 0.0748],\n",
      "        [0.0718, 0.1711, 0.2192, 0.2479, 0.1575, 0.1325]])\n",
      "tensor([[0.6385, 0.3615],\n",
      "        [0.7723, 0.2277]])\n",
      "tensor([[0.2552, 0.2163, 0.1743, 0.1706, 0.1088, 0.0747],\n",
      "        [0.0717, 0.1714, 0.2192, 0.2483, 0.1567, 0.1327]])\n",
      "tensor([[0.6385, 0.3615],\n",
      "        [0.7724, 0.2276]])\n",
      "tensor([[0.2553, 0.2162, 0.1743, 0.1705, 0.1092, 0.0746],\n",
      "        [0.0716, 0.1716, 0.2192, 0.2487, 0.1560, 0.1329]])\n",
      "tensor([[0.6384, 0.3616],\n",
      "        [0.7725, 0.2275]])\n",
      "tensor([[0.2554, 0.2161, 0.1743, 0.1703, 0.1095, 0.0745],\n",
      "        [0.0714, 0.1719, 0.2192, 0.2491, 0.1553, 0.1331]])\n",
      "tensor([[0.6383, 0.3617],\n",
      "        [0.7725, 0.2275]])\n",
      "tensor([[0.2554, 0.2160, 0.1742, 0.1701, 0.1098, 0.0744],\n",
      "        [0.0713, 0.1721, 0.2193, 0.2495, 0.1546, 0.1333]])\n",
      "tensor([[0.6383, 0.3617],\n",
      "        [0.7726, 0.2274]])\n",
      "tensor([[0.2555, 0.2159, 0.1742, 0.1699, 0.1102, 0.0743],\n",
      "        [0.0712, 0.1723, 0.2193, 0.2499, 0.1539, 0.1335]])\n",
      "tensor([[0.6382, 0.3618],\n",
      "        [0.7727, 0.2273]])\n",
      "tensor([[0.2556, 0.2158, 0.1742, 0.1697, 0.1105, 0.0742],\n",
      "        [0.0710, 0.1726, 0.2193, 0.2503, 0.1532, 0.1337]])\n",
      "tensor([[0.6381, 0.3619],\n",
      "        [0.7728, 0.2272]])\n",
      "tensor([[0.2556, 0.2157, 0.1742, 0.1695, 0.1108, 0.0741],\n",
      "        [0.0709, 0.1728, 0.2193, 0.2506, 0.1525, 0.1339]])\n",
      "tensor([[0.6380, 0.3620],\n",
      "        [0.7729, 0.2271]])\n",
      "tensor([[0.2557, 0.2156, 0.1742, 0.1693, 0.1111, 0.0741],\n",
      "        [0.0707, 0.1730, 0.2193, 0.2510, 0.1519, 0.1341]])\n"
     ]
    },
    {
     "name": "stdout",
     "output_type": "stream",
     "text": [
      "tensor([[0.6379, 0.3621],\n",
      "        [0.7731, 0.2269]])\n",
      "tensor([[0.2558, 0.2155, 0.1742, 0.1692, 0.1114, 0.0740],\n",
      "        [0.0706, 0.1733, 0.2193, 0.2514, 0.1512, 0.1343]])\n",
      "tensor([[0.6378, 0.3622],\n",
      "        [0.7732, 0.2268]])\n",
      "tensor([[0.2559, 0.2154, 0.1742, 0.1690, 0.1117, 0.0739],\n",
      "        [0.0704, 0.1735, 0.2193, 0.2518, 0.1506, 0.1345]])\n",
      "tensor([[0.6377, 0.3623],\n",
      "        [0.7733, 0.2267]])\n",
      "tensor([[0.2559, 0.2153, 0.1742, 0.1688, 0.1120, 0.0738],\n",
      "        [0.0703, 0.1737, 0.2193, 0.2521, 0.1500, 0.1347]])\n",
      "tensor([[0.6376, 0.3624],\n",
      "        [0.7735, 0.2265]])\n",
      "tensor([[0.2560, 0.2152, 0.1742, 0.1686, 0.1123, 0.0737],\n",
      "        [0.0701, 0.1739, 0.2192, 0.2525, 0.1494, 0.1349]])\n",
      "tensor([[0.6374, 0.3626],\n",
      "        [0.7736, 0.2264]])\n",
      "tensor([[0.2561, 0.2151, 0.1742, 0.1685, 0.1125, 0.0736],\n",
      "        [0.0700, 0.1741, 0.2192, 0.2528, 0.1488, 0.1351]])\n",
      "tensor([[0.6373, 0.3627],\n",
      "        [0.7738, 0.2262]])\n",
      "tensor([[0.2562, 0.2150, 0.1742, 0.1683, 0.1128, 0.0735],\n",
      "        [0.0698, 0.1744, 0.2192, 0.2532, 0.1482, 0.1353]])\n",
      "tensor([[0.6372, 0.3628],\n",
      "        [0.7739, 0.2261]])\n",
      "tensor([[0.2563, 0.2149, 0.1743, 0.1681, 0.1131, 0.0734],\n",
      "        [0.0697, 0.1746, 0.2192, 0.2535, 0.1476, 0.1355]])\n",
      "tensor([[0.6371, 0.3629],\n",
      "        [0.7741, 0.2259]])\n",
      "tensor([[0.2563, 0.2148, 0.1743, 0.1680, 0.1134, 0.0733],\n",
      "        [0.0695, 0.1748, 0.2192, 0.2539, 0.1470, 0.1357]])\n",
      "tensor([[0.6369, 0.3631],\n",
      "        [0.7742, 0.2258]])\n",
      "tensor([[0.2564, 0.2147, 0.1743, 0.1678, 0.1136, 0.0732],\n",
      "        [0.0694, 0.1750, 0.2192, 0.2542, 0.1464, 0.1359]])\n",
      "tensor([[0.6368, 0.3632],\n",
      "        [0.7744, 0.2256]])\n",
      "tensor([[0.2565, 0.2146, 0.1743, 0.1677, 0.1139, 0.0731],\n",
      "        [0.0692, 0.1752, 0.2191, 0.2545, 0.1459, 0.1361]])\n",
      "tensor([[0.6367, 0.3633],\n",
      "        [0.7746, 0.2254]])\n",
      "tensor([[0.2566, 0.2145, 0.1743, 0.1675, 0.1141, 0.0730],\n",
      "        [0.0691, 0.1754, 0.2191, 0.2548, 0.1453, 0.1363]])\n",
      "tensor([[0.6365, 0.3635],\n",
      "        [0.7747, 0.2253]])\n",
      "tensor([[0.2567, 0.2144, 0.1743, 0.1674, 0.1144, 0.0729],\n",
      "        [0.0689, 0.1756, 0.2191, 0.2552, 0.1448, 0.1365]])\n",
      "tensor([[0.6364, 0.3636],\n",
      "        [0.7749, 0.2251]])\n",
      "tensor([[0.2568, 0.2143, 0.1743, 0.1672, 0.1146, 0.0728],\n",
      "        [0.0687, 0.1758, 0.2190, 0.2555, 0.1442, 0.1367]])\n",
      "tensor([[0.6362, 0.3638],\n",
      "        [0.7751, 0.2249]])\n",
      "tensor([[0.2568, 0.2142, 0.1743, 0.1670, 0.1149, 0.0727],\n",
      "        [0.0686, 0.1760, 0.2190, 0.2558, 0.1437, 0.1369]])\n",
      "tensor([[0.6361, 0.3639],\n",
      "        [0.7753, 0.2247]])\n",
      "tensor([[0.2569, 0.2141, 0.1743, 0.1669, 0.1151, 0.0726],\n",
      "        [0.0684, 0.1762, 0.2190, 0.2561, 0.1432, 0.1371]])\n",
      "tensor([[0.6359, 0.3641],\n",
      "        [0.7755, 0.2245]])\n",
      "tensor([[0.2570, 0.2140, 0.1744, 0.1667, 0.1154, 0.0725],\n",
      "        [0.0683, 0.1764, 0.2189, 0.2564, 0.1427, 0.1373]])\n",
      "tensor([[0.6358, 0.3642],\n",
      "        [0.7757, 0.2243]])\n",
      "tensor([[0.2571, 0.2139, 0.1744, 0.1666, 0.1156, 0.0724],\n",
      "        [0.0681, 0.1766, 0.2189, 0.2567, 0.1422, 0.1375]])\n",
      "tensor([[0.6356, 0.3644],\n",
      "        [0.7759, 0.2241]])\n",
      "tensor([[0.2572, 0.2138, 0.1744, 0.1665, 0.1158, 0.0723],\n",
      "        [0.0679, 0.1768, 0.2188, 0.2570, 0.1417, 0.1377]])\n",
      "tensor([[0.6354, 0.3646],\n",
      "        [0.7761, 0.2239]])\n",
      "tensor([[0.2573, 0.2137, 0.1744, 0.1663, 0.1161, 0.0722],\n",
      "        [0.0678, 0.1770, 0.2188, 0.2573, 0.1412, 0.1379]])\n",
      "tensor([[0.6353, 0.3647],\n",
      "        [0.7763, 0.2237]])\n",
      "tensor([[0.2574, 0.2136, 0.1744, 0.1662, 0.1163, 0.0721],\n",
      "        [0.0676, 0.1772, 0.2188, 0.2576, 0.1407, 0.1381]])\n",
      "tensor([[0.6351, 0.3649],\n",
      "        [0.7765, 0.2235]])\n",
      "tensor([[0.2575, 0.2136, 0.1744, 0.1660, 0.1165, 0.0720],\n",
      "        [0.0674, 0.1774, 0.2187, 0.2579, 0.1402, 0.1383]])\n",
      "tensor([[0.6349, 0.3651],\n",
      "        [0.7767, 0.2233]])\n",
      "tensor([[0.2576, 0.2135, 0.1745, 0.1659, 0.1167, 0.0719],\n",
      "        [0.0673, 0.1776, 0.2187, 0.2581, 0.1398, 0.1386]])\n",
      "tensor([[0.6348, 0.3652],\n",
      "        [0.7769, 0.2231]])\n",
      "tensor([[0.2576, 0.2134, 0.1745, 0.1658, 0.1169, 0.0718],\n",
      "        [0.0671, 0.1778, 0.2186, 0.2584, 0.1393, 0.1388]])\n",
      "tensor([[0.6346, 0.3654],\n",
      "        [0.7771, 0.2229]])\n",
      "tensor([[0.2577, 0.2133, 0.1745, 0.1656, 0.1172, 0.0717],\n",
      "        [0.0669, 0.1780, 0.2185, 0.2587, 0.1389, 0.1390]])\n",
      "tensor([[0.6344, 0.3656],\n",
      "        [0.7773, 0.2227]])\n",
      "tensor([[0.2578, 0.2132, 0.1745, 0.1655, 0.1174, 0.0716],\n",
      "        [0.0668, 0.1782, 0.2185, 0.2590, 0.1384, 0.1392]])\n",
      "tensor([[0.6342, 0.3658],\n",
      "        [0.7775, 0.2225]])\n",
      "tensor([[0.2579, 0.2131, 0.1746, 0.1654, 0.1176, 0.0715],\n",
      "        [0.0666, 0.1784, 0.2184, 0.2592, 0.1380, 0.1394]])\n",
      "tensor([[0.6341, 0.3659],\n",
      "        [0.7777, 0.2223]])\n",
      "tensor([[0.2580, 0.2130, 0.1746, 0.1652, 0.1178, 0.0714],\n",
      "        [0.0664, 0.1786, 0.2184, 0.2595, 0.1376, 0.1396]])\n",
      "tensor([[0.6339, 0.3661],\n",
      "        [0.7779, 0.2221]])\n",
      "tensor([[0.2581, 0.2129, 0.1746, 0.1651, 0.1180, 0.0713],\n",
      "        [0.0663, 0.1788, 0.2183, 0.2597, 0.1371, 0.1398]])\n",
      "tensor([[0.6337, 0.3663],\n",
      "        [0.7782, 0.2218]])\n",
      "tensor([[0.2582, 0.2129, 0.1746, 0.1650, 0.1182, 0.0712],\n",
      "        [0.0661, 0.1789, 0.2182, 0.2600, 0.1367, 0.1400]])\n",
      "tensor([[0.6335, 0.3665],\n",
      "        [0.7784, 0.2216]])\n",
      "tensor([[0.2583, 0.2128, 0.1747, 0.1649, 0.1184, 0.0710],\n",
      "        [0.0659, 0.1791, 0.2182, 0.2602, 0.1363, 0.1402]])\n",
      "tensor([[0.6333, 0.3667],\n",
      "        [0.7786, 0.2214]])\n",
      "tensor([[0.2584, 0.2127, 0.1747, 0.1647, 0.1185, 0.0709],\n",
      "        [0.0658, 0.1793, 0.2181, 0.2605, 0.1359, 0.1404]])\n",
      "tensor([[0.6332, 0.3668],\n",
      "        [0.7788, 0.2212]])\n",
      "tensor([[0.2585, 0.2126, 0.1747, 0.1646, 0.1187, 0.0708],\n",
      "        [0.0656, 0.1795, 0.2180, 0.2607, 0.1355, 0.1407]])\n",
      "tensor([[0.6330, 0.3670],\n",
      "        [0.7791, 0.2209]])\n",
      "tensor([[0.2586, 0.2125, 0.1748, 0.1645, 0.1189, 0.0707],\n",
      "        [0.0654, 0.1797, 0.2180, 0.2610, 0.1351, 0.1409]])\n",
      "tensor([[0.6328, 0.3672],\n",
      "        [0.7793, 0.2207]])\n",
      "tensor([[0.2587, 0.2124, 0.1748, 0.1644, 0.1191, 0.0706],\n",
      "        [0.0652, 0.1799, 0.2179, 0.2612, 0.1347, 0.1411]])\n",
      "tensor([[0.6326, 0.3674],\n",
      "        [0.7795, 0.2205]])\n",
      "tensor([[0.2588, 0.2123, 0.1748, 0.1643, 0.1193, 0.0705],\n",
      "        [0.0651, 0.1801, 0.2178, 0.2614, 0.1343, 0.1413]])\n",
      "tensor([[0.6324, 0.3676],\n",
      "        [0.7797, 0.2203]])\n",
      "tensor([[0.2588, 0.2123, 0.1749, 0.1642, 0.1195, 0.0704],\n",
      "        [0.0649, 0.1803, 0.2177, 0.2616, 0.1340, 0.1415]])\n",
      "tensor([[0.6322, 0.3678],\n",
      "        [0.7800, 0.2200]])\n",
      "tensor([[0.2589, 0.2122, 0.1749, 0.1640, 0.1196, 0.0703],\n",
      "        [0.0647, 0.1804, 0.2176, 0.2619, 0.1336, 0.1417]])\n",
      "tensor([[0.6320, 0.3680],\n",
      "        [0.7802, 0.2198]])\n",
      "tensor([[0.2590, 0.2121, 0.1749, 0.1639, 0.1198, 0.0702],\n",
      "        [0.0646, 0.1806, 0.2176, 0.2621, 0.1332, 0.1419]])\n",
      "tensor([[0.6318, 0.3682],\n",
      "        [0.7804, 0.2196]])\n",
      "tensor([[0.2591, 0.2120, 0.1750, 0.1638, 0.1200, 0.0701],\n",
      "        [0.0644, 0.1808, 0.2175, 0.2623, 0.1329, 0.1421]])\n",
      "tensor([[0.6316, 0.3684],\n",
      "        [0.7806, 0.2194]])\n",
      "tensor([[0.2592, 0.2119, 0.1750, 0.1637, 0.1201, 0.0700],\n",
      "        [0.0642, 0.1810, 0.2174, 0.2625, 0.1325, 0.1424]])\n",
      "tensor([[0.6315, 0.3685],\n",
      "        [0.7809, 0.2191]])\n",
      "tensor([[0.2593, 0.2118, 0.1750, 0.1636, 0.1203, 0.0699],\n",
      "        [0.0641, 0.1812, 0.2173, 0.2627, 0.1322, 0.1426]])\n",
      "tensor([[0.6313, 0.3687],\n",
      "        [0.7811, 0.2189]])\n",
      "tensor([[0.2594, 0.2117, 0.1751, 0.1635, 0.1205, 0.0698],\n",
      "        [0.0639, 0.1814, 0.2172, 0.2629, 0.1318, 0.1428]])\n",
      "tensor([[0.6311, 0.3689],\n",
      "        [0.7813, 0.2187]])\n",
      "tensor([[0.2595, 0.2117, 0.1751, 0.1634, 0.1206, 0.0697],\n",
      "        [0.0637, 0.1816, 0.2171, 0.2631, 0.1315, 0.1430]])\n",
      "tensor([[0.6309, 0.3691],\n",
      "        [0.7816, 0.2184]])\n",
      "tensor([[0.2596, 0.2116, 0.1752, 0.1633, 0.1208, 0.0696],\n",
      "        [0.0635, 0.1817, 0.2170, 0.2633, 0.1312, 0.1432]])\n",
      "tensor([[0.6307, 0.3693],\n",
      "        [0.7818, 0.2182]])\n",
      "tensor([[0.2597, 0.2115, 0.1752, 0.1632, 0.1209, 0.0695],\n",
      "        [0.0634, 0.1819, 0.2169, 0.2635, 0.1308, 0.1434]])\n",
      "tensor([[0.6305, 0.3695],\n",
      "        [0.7820, 0.2180]])\n",
      "tensor([[0.2598, 0.2114, 0.1753, 0.1631, 0.1211, 0.0694],\n",
      "        [0.0632, 0.1821, 0.2168, 0.2637, 0.1305, 0.1436]])\n",
      "tensor([[0.6303, 0.3697],\n",
      "        [0.7822, 0.2178]])\n",
      "tensor([[0.2599, 0.2113, 0.1753, 0.1630, 0.1212, 0.0693],\n",
      "        [0.0630, 0.1823, 0.2167, 0.2639, 0.1302, 0.1438]])\n",
      "tensor([[0.6301, 0.3699],\n",
      "        [0.7825, 0.2175]])\n",
      "tensor([[0.2600, 0.2112, 0.1753, 0.1629, 0.1214, 0.0692],\n",
      "        [0.0629, 0.1825, 0.2166, 0.2641, 0.1299, 0.1441]])\n",
      "tensor([[0.6299, 0.3701],\n",
      "        [0.7827, 0.2173]])\n",
      "tensor([[0.2601, 0.2111, 0.1754, 0.1628, 0.1215, 0.0690],\n",
      "        [0.0627, 0.1827, 0.2165, 0.2643, 0.1296, 0.1443]])\n"
     ]
    },
    {
     "name": "stdout",
     "output_type": "stream",
     "text": [
      "tensor([[0.6297, 0.3703],\n",
      "        [0.7829, 0.2171]])\n",
      "tensor([[0.2602, 0.2111, 0.1754, 0.1627, 0.1217, 0.0689],\n",
      "        [0.0625, 0.1828, 0.2164, 0.2644, 0.1293, 0.1445]])\n",
      "tensor([[0.6295, 0.3705],\n",
      "        [0.7831, 0.2169]])\n",
      "tensor([[0.2603, 0.2110, 0.1755, 0.1626, 0.1218, 0.0688],\n",
      "        [0.0624, 0.1830, 0.2163, 0.2646, 0.1290, 0.1447]])\n"
     ]
    }
   ],
   "source": [
    "for it in range(100):\n",
    "    # E step\n",
    "    al=fwd(x,a,b,pi)\n",
    "    be=bk(x,a,b,pi)\n",
    "    bb=be*b[:,x]\n",
    "    bb=bb[:,1:].unsqueeze(0)\n",
    "    xi=al[:,:-1].unsqueeze(1)*a.unsqueeze(2)*bb\n",
    "    xi=xi/torch.sum(xi,dim=[0,1])\n",
    "    ga=al*be\n",
    "    ga=ga/torch.sum(ga,dim=0)\n",
    "    # M step\n",
    "    pi=ga[:,0]\n",
    "    a=torch.sum(xi,dim=2)#/torch.sum(ga[:,:-1],dim=1)\n",
    "    a=a/torch.sum(a,dim=1).view(-1,1)\n",
    "    sga=torch.sum(ga,dim=1)\n",
    "    for k in range(b.shape[1]):\n",
    "        b[:,k]=torch.sum(ga[:,x==k],dim=1)\n",
    "    b=b/sga.view(-1,1)\n",
    "    print(a)\n",
    "    print(b)"
   ]
  },
  {
   "cell_type": "code",
   "execution_count": 11,
   "metadata": {},
   "outputs": [
    {
     "data": {
      "text/plain": [
       "<matplotlib.image.AxesImage at 0x15e2f2392d0>"
      ]
     },
     "execution_count": 11,
     "metadata": {},
     "output_type": "execute_result"
    },
    {
     "data": {
      "image/png": "[encoded data removed]",
      "text/plain": [
       "<Figure size 640x480 with 1 Axes>"
      ]
     },
     "metadata": {},
     "output_type": "display_data"
    }
   ],
   "source": [
    "import imageio.v3 as iio\n",
    "im = iio.imread('C:\\\\Work\\\\Teaching\\\\Machine Learning\\\\Data\\horse025b.png')\n",
    "im=torch.tensor(im).float()\n",
    "plt.imshow(im.numpy(),cmap='gray')"
   ]
  },
  {
   "cell_type": "code",
   "execution_count": 36,
   "metadata": {},
   "outputs": [
    {
     "data": {
      "image/png": "[encoded data removed]",
      "text/plain": [
       "<Figure size 640x480 with 1 Axes>"
      ]
     },
     "metadata": {},
     "output_type": "display_data"
    }
   ],
   "source": [
    "from torch.utils.data import TensorDataset, DataLoader\n",
    "r,c=im.shape\n",
    "x=torch.zeros(r*c,2).to(device)\n",
    "y=torch.zeros(r*c).to(device)\n",
    "for i in range(r):\n",
    "    for j in range(c):\n",
    "        idx=i*c+j\n",
    "        #idx=j*r+i\n",
    "        x[idx,0]=i\n",
    "        x[idx,1]=j\n",
    "        y[idx]=im[i,j]\n",
    "mx=torch.mean(x,0)\n",
    "sx=torch.std(x,0)\n",
    "x=(x-mx)/sx\n",
    "my=torch.mean(y)\n",
    "y=y-my\n",
    "plt.imshow(y.reshape(r,c).cpu().numpy(),cmap='gray')\n",
    "dataset = TensorDataset(x,y)\n",
    "loader = DataLoader(dataset, batch_size=64, shuffle=True)"
   ]
  },
  {
   "cell_type": "code",
   "execution_count": 53,
   "metadata": {},
   "outputs": [
    {
     "name": "stdout",
     "output_type": "stream",
     "text": [
      "[10] loss: 64.587\n",
      "[20] loss: 51.890\n",
      "[30] loss: 48.051\n",
      "[40] loss: 42.423\n",
      "[50] loss: 40.288\n",
      "[60] loss: 37.681\n",
      "[70] loss: 34.589\n",
      "[80] loss: 32.550\n",
      "[90] loss: 27.062\n",
      "[100] loss: 26.214\n",
      "[110] loss: 13.247\n",
      "[120] loss: 13.603\n",
      "[130] loss: 12.708\n",
      "[140] loss: 12.511\n",
      "[150] loss: 12.395\n",
      "[160] loss: 12.729\n",
      "[170] loss: 12.147\n",
      "[180] loss: 11.941\n",
      "[190] loss: 12.952\n",
      "[200] loss: 12.989\n",
      "[210] loss: 7.115\n",
      "[220] loss: 6.735\n",
      "[230] loss: 6.738\n",
      "[240] loss: 6.606\n",
      "[250] loss: 6.727\n",
      "[260] loss: 6.471\n",
      "[270] loss: 6.468\n",
      "[280] loss: 6.232\n",
      "[290] loss: 6.319\n",
      "[300] loss: 6.114\n",
      "Finished Training\n"
     ]
    },
    {
     "data": {
      "image/png": "[encoded data removed]",
      "text/plain": [
       "<Figure size 640x480 with 1 Axes>"
      ]
     },
     "metadata": {},
     "output_type": "display_data"
    }
   ],
   "source": [
    "import torch.nn as nn\n",
    "import torch.nn.functional as F\n",
    "import torch.optim as optim\n",
    "\n",
    "class Net(nn.Module):\n",
    "    def __init__(self):\n",
    "        super().__init__()\n",
    "        self.fc1 = nn.Linear(2, 32)\n",
    "        self.fc2 = nn.Linear(32, 64)\n",
    "        self.fc3 = nn.Linear(64, 128)\n",
    "        self.fc4 = nn.Linear(128, 128)\n",
    "        self.fc = nn.Linear(128, 1)\n",
    "\n",
    "    def forward(self, x):\n",
    "        x = F.relu(self.fc1(x))\n",
    "        x = F.relu(self.fc2(x))\n",
    "        x = F.relu(self.fc3(x))\n",
    "        x = F.relu(self.fc4(x))\n",
    "        x = self.fc(x)\n",
    "        return x\n",
    "    \n",
    "net=Net()\n",
    "net=net.to(device)\n",
    "n=x.shape[0]\n",
    "criterion=nn.MSELoss()\n",
    "optimizer = optim.SGD(net.parameters(), lr=0.00001, momentum=0.9)\n",
    "scheduler = optim.lr_scheduler.MultiStepLR(optimizer, milestones=[100,200], gamma=0.2)\n",
    "losses=[]\n",
    "for epoch in range(300):  # loop over the dataset multiple times\n",
    "    running_loss = 0.0\n",
    "    for i, data in enumerate(loader, 0):\n",
    "        # get the inputs; data is a list of [inputs, labels]\n",
    "        xi, yi = data\n",
    "\n",
    "        # zero the parameter gradients\n",
    "        optimizer.zero_grad()\n",
    "\n",
    "        # forward + backward + optimize\n",
    "        outputs = net(xi).squeeze()\n",
    "        loss = criterion(outputs, yi)\n",
    "        loss.backward()\n",
    "        optimizer.step()\n",
    "\n",
    "        # print statistics\n",
    "        running_loss += loss.item()\n",
    "    running_loss = running_loss/n\n",
    "    losses.append(running_loss)\n",
    "    if epoch % 10 == 9:   \n",
    "        print('[%d] loss: %1.3f'%(epoch+1,running_loss))\n",
    "    scheduler.step()\n",
    "\n",
    "plt.plot(losses)\n",
    "print('Finished Training')"
   ]
  },
  {
   "cell_type": "code",
   "execution_count": 54,
   "metadata": {},
   "outputs": [
    {
     "data": {
      "text/plain": [
       "<matplotlib.image.AxesImage at 0x15ed3ee4d50>"
      ]
     },
     "execution_count": 54,
     "metadata": {},
     "output_type": "execute_result"
    },
    {
     "data": {
      "image/png": "[encoded data removed]",
      "text/plain": [
       "<Figure size 640x480 with 1 Axes>"
      ]
     },
     "metadata": {},
     "output_type": "display_data"
    }
   ],
   "source": [
    "with torch.no_grad():\n",
    "    py=net(x)\n",
    "plt.imshow(py.reshape(r,c).cpu().numpy(),cmap='gray')"
   ]
  },
  {
   "cell_type": "code",
   "execution_count": 68,
   "metadata": {},
   "outputs": [
    {
     "name": "stdout",
     "output_type": "stream",
     "text": [
      "(2000, 500) (2000,) (600, 500) (600,)\n"
     ]
    }
   ],
   "source": [
    "x = np.loadtxt(\"d:/datasets/uci/madelon/madelon_train.data\")\n",
    "y = np.loadtxt(\"d:/datasets/uci/madelon/madelon_train.labels\", delimiter=',')\n",
    "xt = np.loadtxt(\"d:/datasets/uci/madelon/madelon_valid.data\")\n",
    "yt = np.loadtxt(\"d:/datasets/uci/madelon/madelon_valid.labels\", delimiter=',')\n",
    "print(x.shape,y.shape,xt.shape,yt.shape)"
   ]
  },
  {
   "cell_type": "code",
   "execution_count": 62,
   "metadata": {},
   "outputs": [
    {
     "name": "stdout",
     "output_type": "stream",
     "text": [
      "(300, 20000) (300,) (300, 20000) (300,)\n"
     ]
    }
   ],
   "source": [
    "x = np.loadtxt(\"d:/datasets/uci/dexter/dexter_train.csv\", delimiter=',')\n",
    "y = np.loadtxt(\"d:/datasets/uci/dexter/dexter_train.labels\", delimiter=',')\n",
    "xt = np.loadtxt(\"d:/datasets/uci/dexter/dexter_valid.csv\", delimiter=',')\n",
    "yt = np.loadtxt(\"d:/datasets/uci/dexter/dexter_valid.labels\", delimiter=',')\n",
    "print(x.shape,y.shape,xt.shape,yt.shape)"
   ]
  },
  {
   "cell_type": "code",
   "execution_count": 50,
   "metadata": {},
   "outputs": [
    {
     "name": "stdout",
     "output_type": "stream",
     "text": [
      "(606, 100) (606,) (606, 100) (606,)\n"
     ]
    }
   ],
   "source": [
    "x = np.loadtxt(\"d:/datasets/uci/hill-valley/x.dat\")\n",
    "y = np.loadtxt(\"d:/datasets/uci/hill-valley/y.dat\", delimiter=',')\n",
    "xt = np.loadtxt(\"d:/datasets/uci/hill-valley/xtest.dat\")\n",
    "yt = np.loadtxt(\"d:/datasets/uci/hill-valley/ytest.dat\", delimiter=',')\n",
    "print(x.shape,y.shape,xt.shape,yt.shape)"
   ]
  },
  {
   "cell_type": "code",
   "execution_count": 16,
   "metadata": {},
   "outputs": [
    {
     "name": "stdout",
     "output_type": "stream",
     "text": [
      "(6000, 5000) (6000,) (1000, 5000) (1000,)\n"
     ]
    }
   ],
   "source": [
    "x = np.loadtxt(\"d:/datasets/uci/gisette/gisette_train.data\")\n",
    "y = np.loadtxt(\"d:/datasets/uci/gisette/gisette_train.labels\", delimiter=',')\n",
    "xt = np.loadtxt(\"d:/datasets/uci/gisette/gisette_valid.data\")\n",
    "yt = np.loadtxt(\"d:/datasets/uci/gisette/gisette_valid.labels\", delimiter=',')\n",
    "print(x.shape,y.shape,xt.shape,yt.shape)"
   ]
  },
  {
   "cell_type": "code",
   "execution_count": 69,
   "metadata": {},
   "outputs": [
    {
     "name": "stdout",
     "output_type": "stream",
     "text": [
      "(2000, 500)\n",
      "tensor([1.0003, 1.0003, 1.0003, 1.0003, 1.0003, 1.0003, 1.0003, 1.0003, 1.0003,\n",
      "        1.0003, 1.0003, 1.0003, 1.0003, 1.0003, 1.0003, 1.0003, 1.0003, 1.0003,\n",
      "        1.0003, 1.0003, 1.0003, 1.0003, 1.0003, 1.0003, 1.0003, 1.0003, 1.0003,\n",
      "        1.0003, 1.0003, 1.0003, 1.0003, 1.0003, 1.0003, 1.0003, 1.0003, 1.0003,\n",
      "        1.0003, 1.0003, 1.0003, 1.0003, 1.0003, 1.0003, 1.0003, 1.0003, 1.0003,\n",
      "        1.0003, 1.0003, 1.0003, 1.0003, 1.0003, 1.0003, 1.0003, 1.0003, 1.0003,\n",
      "        1.0003, 1.0003, 1.0003, 1.0003, 1.0003, 1.0003, 1.0003, 1.0003, 1.0003,\n",
      "        1.0003, 1.0003, 1.0003, 1.0003, 1.0003, 1.0003, 1.0003, 1.0003, 1.0003,\n",
      "        1.0003, 1.0003, 1.0003, 1.0003, 1.0003, 1.0003, 1.0003, 1.0003, 1.0003,\n",
      "        1.0003, 1.0003, 1.0003, 1.0003, 1.0003, 1.0003, 1.0003, 1.0003, 1.0003,\n",
      "        1.0003, 1.0003, 1.0003, 1.0003, 1.0003, 1.0003, 1.0003, 1.0003, 1.0003,\n",
      "        1.0003, 1.0003, 1.0003, 1.0003, 1.0003, 1.0003, 1.0003, 1.0003, 1.0003,\n",
      "        1.0003, 1.0003, 1.0003, 1.0003, 1.0003, 1.0003, 1.0003, 1.0003, 1.0003,\n",
      "        1.0003, 1.0003, 1.0003, 1.0003, 1.0003, 1.0003, 1.0003, 1.0003, 1.0003,\n",
      "        1.0003, 1.0003, 1.0003, 1.0003, 1.0003, 1.0003, 1.0003, 1.0003, 1.0003,\n",
      "        1.0003, 1.0003, 1.0003, 1.0003, 1.0003, 1.0003, 1.0003, 1.0003, 1.0003,\n",
      "        1.0003, 1.0003, 1.0003, 1.0003, 1.0003, 1.0003, 1.0003, 1.0003, 1.0003,\n",
      "        1.0003, 1.0003, 1.0003, 1.0003, 1.0003, 1.0003, 1.0003, 1.0003, 1.0003,\n",
      "        1.0003, 1.0003, 1.0003, 1.0003, 1.0003, 1.0003, 1.0003, 1.0003, 1.0003,\n",
      "        1.0003, 1.0003, 1.0003, 1.0003, 1.0003, 1.0003, 1.0003, 1.0003, 1.0003,\n",
      "        1.0003, 1.0003, 1.0003, 1.0003, 1.0003, 1.0003, 1.0003, 1.0003, 1.0003,\n",
      "        1.0003, 1.0003, 1.0003, 1.0003, 1.0003, 1.0003, 1.0003, 1.0003, 1.0003,\n",
      "        1.0003, 1.0003, 1.0003, 1.0003, 1.0003, 1.0003, 1.0003, 1.0003, 1.0003,\n",
      "        1.0003, 1.0003, 1.0003, 1.0003, 1.0003, 1.0003, 1.0003, 1.0003, 1.0003,\n",
      "        1.0003, 1.0003, 1.0003, 1.0003, 1.0003, 1.0003, 1.0003, 1.0003, 1.0003,\n",
      "        1.0003, 1.0003, 1.0003, 1.0003, 1.0003, 1.0003, 1.0003, 1.0003, 1.0003,\n",
      "        1.0003, 1.0003, 1.0003, 1.0003, 1.0003, 1.0003, 1.0003, 1.0003, 1.0003,\n",
      "        1.0003, 1.0003, 1.0003, 1.0003, 1.0003, 1.0003, 1.0003, 1.0003, 1.0003,\n",
      "        1.0003, 1.0003, 1.0003, 1.0003, 1.0003, 1.0003, 1.0003, 1.0003, 1.0003,\n",
      "        1.0003, 1.0003, 1.0003, 1.0003, 1.0003, 1.0003, 1.0003, 1.0003, 1.0003,\n",
      "        1.0003, 1.0003, 1.0003, 1.0003, 1.0003, 1.0003, 1.0003, 1.0003, 1.0003,\n",
      "        1.0003, 1.0003, 1.0003, 1.0003, 1.0003, 1.0003, 1.0003, 1.0003, 1.0003,\n",
      "        1.0003, 1.0003, 1.0003, 1.0003, 1.0003, 1.0003, 1.0003, 1.0003, 1.0003,\n",
      "        1.0003, 1.0003, 1.0003, 1.0003, 1.0003, 1.0003, 1.0003, 1.0003, 1.0003,\n",
      "        1.0003, 1.0003, 1.0003, 1.0003, 1.0003, 1.0003, 1.0003, 1.0003, 1.0003,\n",
      "        1.0003, 1.0003, 1.0003, 1.0003, 1.0003, 1.0003, 1.0003, 1.0003, 1.0003,\n",
      "        1.0003, 1.0003, 1.0003, 1.0003, 1.0003, 1.0003, 1.0003, 1.0003, 1.0003,\n",
      "        1.0003, 1.0003, 1.0003, 1.0003, 1.0003, 1.0003, 1.0003, 1.0003, 1.0003,\n",
      "        1.0003, 1.0003, 1.0003, 1.0003, 1.0003, 1.0003, 1.0003, 1.0003, 1.0003,\n",
      "        1.0003, 1.0003, 1.0003, 1.0003, 1.0003, 1.0003, 1.0003, 1.0003, 1.0003,\n",
      "        1.0003, 1.0003, 1.0003, 1.0003, 1.0003, 1.0003, 1.0003, 1.0003, 1.0003,\n",
      "        1.0003, 1.0003, 1.0003, 1.0003, 1.0003, 1.0003, 1.0003, 1.0003, 1.0003,\n",
      "        1.0003, 1.0003, 1.0003, 1.0003, 1.0003, 1.0003, 1.0003, 1.0003, 1.0003,\n",
      "        1.0003, 1.0003, 1.0003, 1.0003, 1.0003, 1.0003, 1.0003, 1.0003, 1.0003,\n",
      "        1.0003, 1.0003, 1.0003, 1.0003, 1.0003, 1.0003, 1.0003, 1.0003, 1.0003,\n",
      "        1.0003, 1.0003, 1.0003, 1.0003, 1.0003, 1.0003, 1.0003, 1.0003, 1.0003,\n",
      "        1.0003, 1.0003, 1.0003, 1.0003, 1.0003, 1.0003, 1.0003, 1.0003, 1.0003,\n",
      "        1.0003, 1.0003, 1.0003, 1.0003, 1.0003, 1.0003, 1.0003, 1.0003, 1.0003,\n",
      "        1.0003, 1.0003, 1.0003, 1.0003, 1.0003, 1.0003, 1.0003, 1.0003, 1.0003,\n",
      "        1.0003, 1.0003, 1.0003, 1.0003, 1.0003, 1.0003, 1.0003, 1.0003, 1.0003,\n",
      "        1.0003, 1.0003, 1.0003, 1.0003, 1.0003, 1.0003, 1.0003, 1.0003, 1.0003,\n",
      "        1.0003, 1.0003, 1.0003, 1.0003, 1.0003, 1.0003, 1.0003, 1.0003, 1.0003,\n",
      "        1.0003, 1.0003, 1.0003, 1.0003, 1.0003, 1.0003, 1.0003, 1.0003, 1.0003,\n",
      "        1.0003, 1.0003, 1.0003, 1.0003, 1.0003, 1.0003, 1.0003, 1.0003, 1.0003,\n",
      "        1.0003, 1.0003, 1.0003, 1.0003, 1.0003, 1.0003, 1.0003, 1.0003, 1.0003,\n",
      "        1.0003, 1.0003, 1.0003, 1.0003, 1.0003])\n"
     ]
    }
   ],
   "source": [
    "sx=np.std(x,axis=0)\n",
    "x=x[:,sx>0]\n",
    "xt=xt[:,sx>0]\n",
    "mx=np.mean(x,axis=0)\n",
    "sx=np.std(x,axis=0)\n",
    "print(x.shape)\n",
    "x=torch.tensor((x-mx)/sx).float()\n",
    "xt=torch.tensor((xt-mx)/sx).float()\n",
    "y=torch.tensor(y).float()\n",
    "yt=torch.tensor(yt).float()\n",
    "print(torch.std(x,axis=0))"
   ]
  },
  {
   "cell_type": "code",
   "execution_count": 70,
   "metadata": {},
   "outputs": [],
   "source": [
    "n=x.shape[0]\n",
    "nt=xt.shape[0]\n",
    "y1=y.clone()\n",
    "yt1=yt.clone()"
   ]
  },
  {
   "cell_type": "code",
   "execution_count": 71,
   "metadata": {},
   "outputs": [],
   "source": [
    "y[y<0]=0\n",
    "yt[yt<0]=0"
   ]
  },
  {
   "cell_type": "code",
   "execution_count": 72,
   "metadata": {},
   "outputs": [],
   "source": [
    "x,y,y1=x.to(device),y.to(device),y1.to(device)\n",
    "xt,yt,yt1=xt.to(device),yt.to(device),yt1.to(device)"
   ]
  },
  {
   "cell_type": "code",
   "execution_count": null,
   "metadata": {},
   "outputs": [],
   "source": []
  }
 ],
 "metadata": {
  "kernelspec": {
   "display_name": "Python 3 (ipykernel)",
   "language": "python",
   "name": "python3"
  },
  "language_info": {
   "codemirror_mode": {
    "name": "ipython",
    "version": 3
   },
   "file_extension": ".py",
   "mimetype": "text/x-python",
   "name": "python",
   "nbconvert_exporter": "python",
   "pygments_lexer": "ipython3",
   "version": "3.11.4"
  }
 },
 "nbformat": 4,
 "nbformat_minor": 1
}
